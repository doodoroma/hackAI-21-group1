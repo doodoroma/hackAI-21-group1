{
  "nbformat": 4,
  "nbformat_minor": 0,
  "metadata": {
    "accelerator": "GPU",
    "colab": {
      "name": "MMAction2_lab_1_hughes.ipynb",
      "provenance": [],
      "collapsed_sections": []
    },
    "kernelspec": {
      "display_name": "Python 3",
      "language": "python",
      "name": "python3"
    },
    "language_info": {
      "codemirror_mode": {
        "name": "ipython",
        "version": 3
      },
      "file_extension": ".py",
      "mimetype": "text/x-python",
      "name": "python",
      "nbconvert_exporter": "python",
      "pygments_lexer": "ipython3",
      "version": "3.8.5"
    }
  },
  "cells": [
    {
      "cell_type": "markdown",
      "metadata": {
        "id": "TuBWCb5vRMda"
      },
      "source": [
        "# Check Config and install right versions of required librairies"
      ]
    },
    {
      "cell_type": "code",
      "metadata": {
        "colab": {
          "base_uri": "https://localhost:8080/"
        },
        "id": "ofO821y7zmHW",
        "outputId": "0829ea9c-00c8-4819-dced-571392031460"
      },
      "source": [
        "# Check nvcc version\n",
        "!nvcc -V\n",
        "# Check GCC version\n",
        "!gcc --version"
      ],
      "execution_count": 1,
      "outputs": [
        {
          "output_type": "stream",
          "text": [
            "nvcc: NVIDIA (R) Cuda compiler driver\n",
            "Copyright (c) 2005-2020 NVIDIA Corporation\n",
            "Built on Wed_Jul_22_19:09:09_PDT_2020\n",
            "Cuda compilation tools, release 11.0, V11.0.221\n",
            "Build cuda_11.0_bu.TC445_37.28845127_0\n",
            "gcc (Ubuntu 7.5.0-3ubuntu1~18.04) 7.5.0\n",
            "Copyright (C) 2017 Free Software Foundation, Inc.\n",
            "This is free software; see the source for copying conditions.  There is NO\n",
            "warranty; not even for MERCHANTABILITY or FITNESS FOR A PARTICULAR PURPOSE.\n",
            "\n"
          ],
          "name": "stdout"
        }
      ]
    },
    {
      "cell_type": "code",
      "metadata": {
        "colab": {
          "base_uri": "https://localhost:8080/",
          "height": 1000
        },
        "id": "qXnyIdqV0Ctf",
        "outputId": "31fb896e-a78d-4c65-dd4e-ce922da74a92"
      },
      "source": [
        "# install dependencies: (use cu101 because colab has CUDA 10.1)\n",
        "!pip install torch==1.7.0+cu101 torchvision==0.8.1+cu101 torchaudio==0.7.0 -f https://download.pytorch.org/whl/torch_stable.html\n",
        "\n",
        "# install mmcv-full thus we could use CUDA operators\n",
        "# AssertionError: MMCV==1.2.5 is used but incompatible. Please install mmcv>=1.2.6, <=1.3.\n",
        "!pip install mmcv-full==1.2.6 -f https://download.openmmlab.com/mmcv/dist/cu101/torch1.7.0/index.html\n",
        "\n",
        "# Install mmaction2\n",
        "!rm -rf mmaction2\n",
        "!git clone https://github.com/open-mmlab/mmaction2.git\n",
        "%cd mmaction2\n",
        "!pip install -e .\n",
        "\n",
        "# Install some optional requirements\n",
        "!pip install -r requirements/optional.txt"
      ],
      "execution_count": 2,
      "outputs": [
        {
          "output_type": "stream",
          "text": [
            "Looking in links: https://download.pytorch.org/whl/torch_stable.html\n",
            "Collecting torch==1.7.0+cu101\n",
            "\u001b[?25l  Downloading https://download.pytorch.org/whl/cu101/torch-1.7.0%2Bcu101-cp37-cp37m-linux_x86_64.whl (735.3MB)\n",
            "\u001b[K     |████████████████████████████████| 735.3MB 15kB/s \n",
            "\u001b[?25hCollecting torchvision==0.8.1+cu101\n",
            "\u001b[?25l  Downloading https://download.pytorch.org/whl/cu101/torchvision-0.8.1%2Bcu101-cp37-cp37m-linux_x86_64.whl (12.7MB)\n",
            "\u001b[K     |████████████████████████████████| 12.7MB 197kB/s \n",
            "\u001b[?25hCollecting torchaudio==0.7.0\n",
            "\u001b[?25l  Downloading https://files.pythonhosted.org/packages/5d/75/5ce994c76cf7b53ff8c577d7a8221fa0c9dfe9e34c0536c6eaf3e466788a/torchaudio-0.7.0-cp37-cp37m-manylinux1_x86_64.whl (7.6MB)\n",
            "\u001b[K     |████████████████████████████████| 7.6MB 9.0MB/s \n",
            "\u001b[?25hRequirement already satisfied: future in /usr/local/lib/python3.7/dist-packages (from torch==1.7.0+cu101) (0.16.0)\n",
            "Requirement already satisfied: typing-extensions in /usr/local/lib/python3.7/dist-packages (from torch==1.7.0+cu101) (3.7.4.3)\n",
            "Requirement already satisfied: numpy in /usr/local/lib/python3.7/dist-packages (from torch==1.7.0+cu101) (1.19.5)\n",
            "Collecting dataclasses\n",
            "  Downloading https://files.pythonhosted.org/packages/26/2f/1095cdc2868052dd1e64520f7c0d5c8c550ad297e944e641dbf1ffbb9a5d/dataclasses-0.6-py3-none-any.whl\n",
            "Requirement already satisfied: pillow>=4.1.1 in /usr/local/lib/python3.7/dist-packages (from torchvision==0.8.1+cu101) (7.0.0)\n",
            "\u001b[31mERROR: torchtext 0.9.0 has requirement torch==1.8.0, but you'll have torch 1.7.0+cu101 which is incompatible.\u001b[0m\n",
            "Installing collected packages: dataclasses, torch, torchvision, torchaudio\n",
            "  Found existing installation: torch 1.8.0+cu101\n",
            "    Uninstalling torch-1.8.0+cu101:\n",
            "      Successfully uninstalled torch-1.8.0+cu101\n",
            "  Found existing installation: torchvision 0.9.0+cu101\n",
            "    Uninstalling torchvision-0.9.0+cu101:\n",
            "      Successfully uninstalled torchvision-0.9.0+cu101\n",
            "Successfully installed dataclasses-0.6 torch-1.7.0+cu101 torchaudio-0.7.0 torchvision-0.8.1+cu101\n",
            "Looking in links: https://download.openmmlab.com/mmcv/dist/cu101/torch1.7.0/index.html\n",
            "Collecting mmcv-full==1.2.6\n",
            "\u001b[?25l  Downloading https://download.openmmlab.com/mmcv/dist/cu101/torch1.7.0/mmcv_full-1.2.6-cp37-cp37m-manylinux1_x86_64.whl (24.1MB)\n",
            "\u001b[K     |████████████████████████████████| 24.1MB 130kB/s \n",
            "\u001b[?25hRequirement already satisfied: numpy in /usr/local/lib/python3.7/dist-packages (from mmcv-full==1.2.6) (1.19.5)\n",
            "Collecting addict\n",
            "  Downloading https://files.pythonhosted.org/packages/6a/00/b08f23b7d7e1e14ce01419a467b583edbb93c6cdb8654e54a9cc579cd61f/addict-2.4.0-py3-none-any.whl\n",
            "Collecting yapf\n",
            "\u001b[?25l  Downloading https://files.pythonhosted.org/packages/5f/0d/8814e79eb865eab42d95023b58b650d01dec6f8ea87fc9260978b1bf2167/yapf-0.31.0-py2.py3-none-any.whl (185kB)\n",
            "\u001b[K     |████████████████████████████████| 194kB 7.7MB/s \n",
            "\u001b[?25hRequirement already satisfied: opencv-python>=3 in /usr/local/lib/python3.7/dist-packages (from mmcv-full==1.2.6) (4.1.2.30)\n",
            "Requirement already satisfied: Pillow in /usr/local/lib/python3.7/dist-packages (from mmcv-full==1.2.6) (7.0.0)\n",
            "Requirement already satisfied: pyyaml in /usr/local/lib/python3.7/dist-packages (from mmcv-full==1.2.6) (3.13)\n",
            "Installing collected packages: addict, yapf, mmcv-full\n",
            "Successfully installed addict-2.4.0 mmcv-full-1.2.6 yapf-0.31.0\n",
            "Cloning into 'mmaction2'...\n",
            "remote: Enumerating objects: 66, done.\u001b[K\n",
            "remote: Counting objects: 100% (66/66), done.\u001b[K\n",
            "remote: Compressing objects: 100% (44/44), done.\u001b[K\n",
            "remote: Total 10085 (delta 38), reused 32 (delta 22), pack-reused 10019\u001b[K\n",
            "Receiving objects: 100% (10085/10085), 35.88 MiB | 32.60 MiB/s, done.\n",
            "Resolving deltas: 100% (7165/7165), done.\n",
            "/content/mmaction2\n",
            "Obtaining file:///content/mmaction2\n",
            "Requirement already satisfied: matplotlib in /usr/local/lib/python3.7/dist-packages (from mmaction2==0.12.0) (3.2.2)\n",
            "Requirement already satisfied: numpy in /usr/local/lib/python3.7/dist-packages (from mmaction2==0.12.0) (1.19.5)\n",
            "Requirement already satisfied: opencv-contrib-python in /usr/local/lib/python3.7/dist-packages (from mmaction2==0.12.0) (4.1.2.30)\n",
            "Requirement already satisfied: Pillow in /usr/local/lib/python3.7/dist-packages (from mmaction2==0.12.0) (7.0.0)\n",
            "Requirement already satisfied: cycler>=0.10 in /usr/local/lib/python3.7/dist-packages (from matplotlib->mmaction2==0.12.0) (0.10.0)\n",
            "Requirement already satisfied: kiwisolver>=1.0.1 in /usr/local/lib/python3.7/dist-packages (from matplotlib->mmaction2==0.12.0) (1.3.1)\n",
            "Requirement already satisfied: python-dateutil>=2.1 in /usr/local/lib/python3.7/dist-packages (from matplotlib->mmaction2==0.12.0) (2.8.1)\n",
            "Requirement already satisfied: pyparsing!=2.0.4,!=2.1.2,!=2.1.6,>=2.0.1 in /usr/local/lib/python3.7/dist-packages (from matplotlib->mmaction2==0.12.0) (2.4.7)\n",
            "Requirement already satisfied: six in /usr/local/lib/python3.7/dist-packages (from cycler>=0.10->matplotlib->mmaction2==0.12.0) (1.15.0)\n",
            "Installing collected packages: mmaction2\n",
            "  Running setup.py develop for mmaction2\n",
            "Successfully installed mmaction2\n",
            "Collecting av\n",
            "\u001b[?25l  Downloading https://files.pythonhosted.org/packages/66/ff/bacde7314c646a2bd2f240034809a10cc3f8b096751284d0828640fff3dd/av-8.0.3-cp37-cp37m-manylinux2010_x86_64.whl (37.2MB)\n",
            "\u001b[K     |████████████████████████████████| 37.2MB 81kB/s \n",
            "\u001b[?25hCollecting decord>=0.4.1\n",
            "\u001b[?25l  Downloading https://files.pythonhosted.org/packages/64/5e/e2be6a3a3a46275059574d9c6a1d422aa6c7c3cbf6614939b8a3c3f8f2d5/decord-0.5.2-py3-none-manylinux2010_x86_64.whl (14.1MB)\n",
            "\u001b[K     |████████████████████████████████| 14.1MB 250kB/s \n",
            "\u001b[?25hRequirement already satisfied: imgaug in /usr/local/lib/python3.7/dist-packages (from -r requirements/optional.txt (line 3)) (0.2.9)\n",
            "Requirement already satisfied: librosa in /usr/local/lib/python3.7/dist-packages (from -r requirements/optional.txt (line 4)) (0.8.0)\n",
            "Requirement already satisfied: lmdb in /usr/local/lib/python3.7/dist-packages (from -r requirements/optional.txt (line 5)) (0.99)\n",
            "Requirement already satisfied: moviepy in /usr/local/lib/python3.7/dist-packages (from -r requirements/optional.txt (line 6)) (0.2.3.5)\n",
            "Collecting onnx\n",
            "\u001b[?25l  Downloading https://files.pythonhosted.org/packages/38/57/65f48111f823df02da3e391b0b1aaadaf9972f8aa68ab3a41f46d59f57fe/onnx-1.8.1-cp37-cp37m-manylinux2010_x86_64.whl (14.5MB)\n",
            "\u001b[K     |████████████████████████████████| 14.5MB 248kB/s \n",
            "\u001b[?25hCollecting onnxruntime\n",
            "\u001b[?25l  Downloading https://files.pythonhosted.org/packages/0c/f0/666d6e3ceaa276a54e728f9972732e058544cbb6a3e1a778a8d6f87132c1/onnxruntime-1.7.0-cp37-cp37m-manylinux2014_x86_64.whl (4.1MB)\n",
            "\u001b[K     |████████████████████████████████| 4.1MB 51.8MB/s \n",
            "\u001b[?25hCollecting PyTurboJPEG\n",
            "  Downloading https://files.pythonhosted.org/packages/9d/f5/6106c673096b1bc1af716bbc9b17e542c77ccad5fafd150afb91ff18a6e8/PyTurboJPEG-1.4.1.tar.gz\n",
            "Requirement already satisfied: numpy>=1.14.0 in /usr/local/lib/python3.7/dist-packages (from decord>=0.4.1->-r requirements/optional.txt (line 2)) (1.19.5)\n",
            "Requirement already satisfied: imageio in /usr/local/lib/python3.7/dist-packages (from imgaug->-r requirements/optional.txt (line 3)) (2.4.1)\n",
            "Requirement already satisfied: scipy in /usr/local/lib/python3.7/dist-packages (from imgaug->-r requirements/optional.txt (line 3)) (1.4.1)\n",
            "Requirement already satisfied: matplotlib in /usr/local/lib/python3.7/dist-packages (from imgaug->-r requirements/optional.txt (line 3)) (3.2.2)\n",
            "Requirement already satisfied: opencv-python in /usr/local/lib/python3.7/dist-packages (from imgaug->-r requirements/optional.txt (line 3)) (4.1.2.30)\n",
            "Requirement already satisfied: six in /usr/local/lib/python3.7/dist-packages (from imgaug->-r requirements/optional.txt (line 3)) (1.15.0)\n",
            "Requirement already satisfied: scikit-image>=0.11.0 in /usr/local/lib/python3.7/dist-packages (from imgaug->-r requirements/optional.txt (line 3)) (0.16.2)\n",
            "Requirement already satisfied: Shapely in /usr/local/lib/python3.7/dist-packages (from imgaug->-r requirements/optional.txt (line 3)) (1.7.1)\n",
            "Requirement already satisfied: Pillow in /usr/local/lib/python3.7/dist-packages (from imgaug->-r requirements/optional.txt (line 3)) (7.0.0)\n",
            "Requirement already satisfied: resampy>=0.2.2 in /usr/local/lib/python3.7/dist-packages (from librosa->-r requirements/optional.txt (line 4)) (0.2.2)\n",
            "Requirement already satisfied: pooch>=1.0 in /usr/local/lib/python3.7/dist-packages (from librosa->-r requirements/optional.txt (line 4)) (1.3.0)\n",
            "Requirement already satisfied: numba>=0.43.0 in /usr/local/lib/python3.7/dist-packages (from librosa->-r requirements/optional.txt (line 4)) (0.51.2)\n",
            "Requirement already satisfied: decorator>=3.0.0 in /usr/local/lib/python3.7/dist-packages (from librosa->-r requirements/optional.txt (line 4)) (4.4.2)\n",
            "Requirement already satisfied: joblib>=0.14 in /usr/local/lib/python3.7/dist-packages (from librosa->-r requirements/optional.txt (line 4)) (1.0.1)\n",
            "Requirement already satisfied: soundfile>=0.9.0 in /usr/local/lib/python3.7/dist-packages (from librosa->-r requirements/optional.txt (line 4)) (0.10.3.post1)\n",
            "Requirement already satisfied: audioread>=2.0.0 in /usr/local/lib/python3.7/dist-packages (from librosa->-r requirements/optional.txt (line 4)) (2.1.9)\n",
            "Requirement already satisfied: scikit-learn!=0.19.0,>=0.14.0 in /usr/local/lib/python3.7/dist-packages (from librosa->-r requirements/optional.txt (line 4)) (0.22.2.post1)\n",
            "Requirement already satisfied: tqdm<5.0,>=4.11.2 in /usr/local/lib/python3.7/dist-packages (from moviepy->-r requirements/optional.txt (line 6)) (4.41.1)\n",
            "Requirement already satisfied: typing-extensions>=3.6.2.1 in /usr/local/lib/python3.7/dist-packages (from onnx->-r requirements/optional.txt (line 7)) (3.7.4.3)\n",
            "Requirement already satisfied: protobuf in /usr/local/lib/python3.7/dist-packages (from onnx->-r requirements/optional.txt (line 7)) (3.12.4)\n",
            "Requirement already satisfied: cycler>=0.10 in /usr/local/lib/python3.7/dist-packages (from matplotlib->imgaug->-r requirements/optional.txt (line 3)) (0.10.0)\n",
            "Requirement already satisfied: pyparsing!=2.0.4,!=2.1.2,!=2.1.6,>=2.0.1 in /usr/local/lib/python3.7/dist-packages (from matplotlib->imgaug->-r requirements/optional.txt (line 3)) (2.4.7)\n",
            "Requirement already satisfied: python-dateutil>=2.1 in /usr/local/lib/python3.7/dist-packages (from matplotlib->imgaug->-r requirements/optional.txt (line 3)) (2.8.1)\n",
            "Requirement already satisfied: kiwisolver>=1.0.1 in /usr/local/lib/python3.7/dist-packages (from matplotlib->imgaug->-r requirements/optional.txt (line 3)) (1.3.1)\n",
            "Requirement already satisfied: PyWavelets>=0.4.0 in /usr/local/lib/python3.7/dist-packages (from scikit-image>=0.11.0->imgaug->-r requirements/optional.txt (line 3)) (1.1.1)\n",
            "Requirement already satisfied: networkx>=2.0 in /usr/local/lib/python3.7/dist-packages (from scikit-image>=0.11.0->imgaug->-r requirements/optional.txt (line 3)) (2.5)\n",
            "Requirement already satisfied: requests in /usr/local/lib/python3.7/dist-packages (from pooch>=1.0->librosa->-r requirements/optional.txt (line 4)) (2.23.0)\n",
            "Requirement already satisfied: packaging in /usr/local/lib/python3.7/dist-packages (from pooch>=1.0->librosa->-r requirements/optional.txt (line 4)) (20.9)\n",
            "Requirement already satisfied: appdirs in /usr/local/lib/python3.7/dist-packages (from pooch>=1.0->librosa->-r requirements/optional.txt (line 4)) (1.4.4)\n",
            "Requirement already satisfied: llvmlite<0.35,>=0.34.0.dev0 in /usr/local/lib/python3.7/dist-packages (from numba>=0.43.0->librosa->-r requirements/optional.txt (line 4)) (0.34.0)\n",
            "Requirement already satisfied: setuptools in /usr/local/lib/python3.7/dist-packages (from numba>=0.43.0->librosa->-r requirements/optional.txt (line 4)) (54.1.2)\n",
            "Requirement already satisfied: cffi>=1.0 in /usr/local/lib/python3.7/dist-packages (from soundfile>=0.9.0->librosa->-r requirements/optional.txt (line 4)) (1.14.5)\n",
            "Requirement already satisfied: idna<3,>=2.5 in /usr/local/lib/python3.7/dist-packages (from requests->pooch>=1.0->librosa->-r requirements/optional.txt (line 4)) (2.10)\n",
            "Requirement already satisfied: urllib3!=1.25.0,!=1.25.1,<1.26,>=1.21.1 in /usr/local/lib/python3.7/dist-packages (from requests->pooch>=1.0->librosa->-r requirements/optional.txt (line 4)) (1.24.3)\n",
            "Requirement already satisfied: chardet<4,>=3.0.2 in /usr/local/lib/python3.7/dist-packages (from requests->pooch>=1.0->librosa->-r requirements/optional.txt (line 4)) (3.0.4)\n",
            "Requirement already satisfied: certifi>=2017.4.17 in /usr/local/lib/python3.7/dist-packages (from requests->pooch>=1.0->librosa->-r requirements/optional.txt (line 4)) (2020.12.5)\n",
            "Requirement already satisfied: pycparser in /usr/local/lib/python3.7/dist-packages (from cffi>=1.0->soundfile>=0.9.0->librosa->-r requirements/optional.txt (line 4)) (2.20)\n",
            "Building wheels for collected packages: PyTurboJPEG\n",
            "  Building wheel for PyTurboJPEG (setup.py) ... \u001b[?25l\u001b[?25hdone\n",
            "  Created wheel for PyTurboJPEG: filename=PyTurboJPEG-1.4.1-cp37-none-any.whl size=7002 sha256=ff461c8642e7d0d2fafa371e4ffec70997c3f382ac7e086a6496d813de307554\n",
            "  Stored in directory: /root/.cache/pip/wheels/c3/21/97/152eed6e60d59f1c432139dee7a2e89de44026ef1855b4c4d7\n",
            "Successfully built PyTurboJPEG\n",
            "Installing collected packages: av, decord, onnx, onnxruntime, PyTurboJPEG\n",
            "Successfully installed PyTurboJPEG-1.4.1 av-8.0.3 decord-0.5.2 onnx-1.8.1 onnxruntime-1.7.0\n"
          ],
          "name": "stdout"
        },
        {
          "output_type": "display_data",
          "data": {
            "application/vnd.colab-display-data+json": {
              "pip_warning": {
                "packages": [
                  "numpy"
                ]
              }
            }
          },
          "metadata": {
            "tags": []
          }
        }
      ]
    },
    {
      "cell_type": "code",
      "metadata": {
        "colab": {
          "base_uri": "https://localhost:8080/"
        },
        "id": "PN7vf8HD2eMv",
        "outputId": "c99ff442-186e-4f9b-8016-7cd139b6ccc1"
      },
      "source": [
        "# Check Pytorch installation\n",
        "import torch, torchvision\n",
        "print(torch.__version__, torch.cuda.is_available())\n",
        "\n",
        "# Check MMAction2 installation\n",
        "import mmaction\n",
        "print(mmaction.__version__)\n",
        "\n",
        "# Check MMCV installation\n",
        "from mmcv.ops import get_compiling_cuda_version, get_compiler_version\n",
        "print(get_compiling_cuda_version())\n",
        "print(get_compiler_version())"
      ],
      "execution_count": 3,
      "outputs": [
        {
          "output_type": "stream",
          "text": [
            "1.7.0+cu101 True\n",
            "0.12.0\n",
            "10.1\n",
            "GCC 7.3\n"
          ],
          "name": "stdout"
        }
      ]
    },
    {
      "cell_type": "markdown",
      "metadata": {
        "id": "Fmbyl-B0RtiJ"
      },
      "source": [
        "# Test MMaction2"
      ]
    },
    {
      "cell_type": "code",
      "metadata": {
        "id": "u_0wX-zKKGWX"
      },
      "source": [
        "# libraries\n",
        "import os.path as osp\n",
        "import mmcv\n",
        "\n",
        "from mmcv import Config\n",
        "from mmcv.runner import set_random_seed\n",
        "from mmcv.parallel import MMDataParallel\n",
        "from mmaction.datasets import build_dataset, build_dataloader\n",
        "from mmaction.models import build_model\n",
        "from mmaction.apis import train_model, single_gpu_test, inference_recognizer, init_recognizer\n"
      ],
      "execution_count": 4,
      "outputs": []
    },
    {
      "cell_type": "code",
      "metadata": {
        "colab": {
          "base_uri": "https://localhost:8080/"
        },
        "id": "CJPaHa__8g3Q",
        "outputId": "8aa40e95-e116-4f33-f942-1fe75e852c9b"
      },
      "source": [
        "%cd mmaction2/\n",
        "#prepare checkpoints folder\n",
        "!rm -rf checkpoints\n",
        "!mkdir checkpoints"
      ],
      "execution_count": 5,
      "outputs": [
        {
          "output_type": "stream",
          "text": [
            "[Errno 2] No such file or directory: 'mmaction2/'\n",
            "/content/mmaction2\n"
          ],
          "name": "stdout"
        }
      ]
    },
    {
      "cell_type": "code",
      "metadata": {
        "id": "-3GaVgFNO9EJ"
      },
      "source": [
        "import datetime\n",
        "#########\n",
        "# download and return paths for model\n",
        "#########\n",
        "# https://github.com/open-mmlab/mmaction2 > scroll model zoo\n",
        "# slowfast -> click > https://github.com/open-mmlab/mmaction2/blob/master/configs/recognition/slowfast/README.md\n",
        "# get config AND horizontal scroll to find link to checkpoint file !!!\n",
        "\n",
        "def get_config_and_chechpoint_model(model_name):\n",
        "  if model_name == 'slowfast':\n",
        "    !wget -c https://download.openmmlab.com/mmaction/recognition/slowfast/slowfast_r50_video_4x16x1_256e_kinetics400_rgb/slowfast_r50_video_4x16x1_256e_kinetics400_rgb_20200826-f85b90c5.pth \\\n",
        "          -O checkpoints/slowfast_r50_video_4x16x1_256e_kinetics400_rgb_20200826-f85b90c5.pth\n",
        "    return 'configs/recognition/slowfast/slowfast_r50_video_4x16x1_256e_kinetics400_rgb.py', 'checkpoints/slowfast_r50_video_4x16x1_256e_kinetics400_rgb_20200826-f85b90c5.pth'\n",
        "  \n",
        "  if model_name == 'x3d':\n",
        "    !wget -c https://download.openmmlab.com/mmaction/recognition/x3d/facebook/x3d_m_facebook_16x5x1_kinetics400_rgb_20201027-3f42382a.pth \\\n",
        "          -O checkpoints/x3d_m_facebook_16x5x1_kinetics400_rgb_20201027-3f42382a.pth\n",
        "    return 'configs/recognition/x3d/x3d_m_16x5x1_facebook_kinetics400_rgb.py', 'checkpoints/x3d_m_facebook_16x5x1_kinetics400_rgb_20201027-3f42382a.pth'\n",
        "  \n",
        "  if model_name == 'tpn':\n",
        "    !wget -c https://download.openmmlab.com/mmaction/recognition/tpn/tpn_imagenet_pretrained_slowonly_r50_8x8x1_150e_kinetics_rgb/tpn_imagenet_pretrained_slowonly_r50_8x8x1_150e_kinetics_rgb_20200923-52629684.pth \\\n",
        "          -O checkpoints/tpn_imagenet_pretrained_slowonly_r50_8x8x1_150e_kinetics_rgb_20200923-52629684.pth\n",
        "    return 'configs/recognition/tpn/tpn_imagenet_pretrained_slowonly_r50_8x8x1_150e_kinetics_rgb.py', 'checkpoints/tpn_imagenet_pretrained_slowonly_r50_8x8x1_150e_kinetics_rgb_20200923-52629684.pth'\n",
        "  \n",
        "  if model_name == 'tsn':\n",
        "    !wget -c https://download.openmmlab.com/mmaction/recognition/tsn/tsn_r50_1x1x3_100e_kinetics400_rgb/tsn_r50_1x1x3_100e_kinetics400_rgb_20200614-e508be42.pth \\\n",
        "          -O checkpoints/tsn_r50_1x1x3_100e_kinetics400_rgb_20200614-e508be42.pth\n",
        "    return 'configs/recognition/tsn/tsn_r50_video_1x1x8_100e_kinetics400_rgb.py', 'checkpoints/tsn_r50_1x1x3_100e_kinetics400_rgb_20200614-e508be42.pth'\n",
        "\n",
        "  if model_name == 'tsm':\n",
        "    !wget -c https://download.openmmlab.com/mmaction/recognition/tsm/tsm_r50_video_1x1x8_100e_kinetics400_rgb/tsm_r50_video_1x1x8_100e_kinetics400_rgb_20200702-a77f4328.pth \\\n",
        "          -O checkpoints/tsm_r50_video_1x1x8_100e_kinetics400_rgb_20200702-a77f4328.pth\n",
        "    return 'configs/recognition/tsm/tsm_r50_video_1x1x8_50e_kinetics400_rgb.py', 'checkpoints/tsm_r50_video_1x1x8_100e_kinetics400_rgb_20200702-a77f4328.pth'\n",
        "\n",
        "  if model_name == 'i3d':\n",
        "    !wget -c https://download.openmmlab.com/mmaction/recognition/i3d/i3d_r50_video_32x2x1_100e_kinetics400_rgb/i3d_r50_video_32x2x1_100e_kinetics400_rgb_20200826-e31c6f52.pth \\\n",
        "          -O checkpoints/i3d_r50_video_32x2x1_100e_kinetics400_rgb_20200826-e31c6f52.pth\n",
        "    return 'configs/recognition/i3d/i3d_r50_video_32x2x1_100e_kinetics400_rgb.py', 'checkpoints/i3d_r50_video_32x2x1_100e_kinetics400_rgb_20200826-e31c6f52.pth'\n",
        "\n",
        "\n",
        "#########\n",
        "# Ensure that config is ok\n",
        "#########\n",
        "def test_model(model_name):\n",
        "  config, checkpoint = get_config_and_chechpoint_model(model_name)\n",
        "  # Initialize the recognizer\n",
        "  model = init_recognizer(config, checkpoint, device='cuda:0')\n",
        "\n",
        "  # Use the recognizer to do inference\n",
        "  video = 'demo/demo.mp4'\n",
        "  label = 'demo/label_map_k400.txt'\n",
        "  start_time = datetime.datetime.now()\n",
        "  results = inference_recognizer(model, video, label)\n",
        "  end_time = datetime.datetime.now()\n",
        "  time_diff = (end_time - start_time)\n",
        "  execution_time = time_diff.total_seconds()\n",
        "  \n",
        "  print(\"---------------------------------------\")\n",
        "  print(f\"{model_name} : execution duration : {execution_time} seconds\")\n",
        "\n",
        "  # Let's show the results\n",
        "  for result in results:\n",
        "      print(f'{result[0]}: ', \"{:.5f}\".format(result[1]))\n",
        "\n",
        "  print(\"\\n\\n\")"
      ],
      "execution_count": 22,
      "outputs": []
    },
    {
      "cell_type": "code",
      "metadata": {
        "colab": {
          "base_uri": "https://localhost:8080/"
        },
        "id": "HQaoG9tOLMuE",
        "outputId": "da9ad9b7-c151-40bf-ef21-3aa714cd8b19"
      },
      "source": [
        "# test if model\n",
        "test_model(\"slowfast\")\n",
        "test_model(\"tsn\")\n",
        "test_model(\"i3d\")\n",
        "test_model(\"tsm\")"
      ],
      "execution_count": 23,
      "outputs": [
        {
          "output_type": "stream",
          "text": [
            "--2021-03-28 10:49:01--  https://download.openmmlab.com/mmaction/recognition/slowfast/slowfast_r50_video_4x16x1_256e_kinetics400_rgb/slowfast_r50_video_4x16x1_256e_kinetics400_rgb_20200826-f85b90c5.pth\n",
            "Resolving download.openmmlab.com (download.openmmlab.com)... 47.88.36.78\n",
            "Connecting to download.openmmlab.com (download.openmmlab.com)|47.88.36.78|:443... connected.\n",
            "HTTP request sent, awaiting response... 200 OK\n",
            "\n",
            "    The file is already fully retrieved; nothing to do.\n",
            "\n"
          ],
          "name": "stdout"
        },
        {
          "output_type": "stream",
          "text": [
            "/usr/local/lib/python3.7/dist-packages/torch/nn/functional.py:3103: UserWarning: The default behavior for interpolate/upsample with float scale_factor changed in 1.6.0 to align with other frameworks/libraries, and now uses scale_factor directly, instead of relying on the computed output size. If you wish to restore the old behavior, please set recompute_scale_factor=True. See the documentation of nn.Upsample for details. \n",
            "  warnings.warn(\"The default behavior for interpolate/upsample with float scale_factor changed \"\n"
          ],
          "name": "stderr"
        },
        {
          "output_type": "stream",
          "text": [
            "---------------------------------------\n",
            "slowfast : execution duration : 2.64648 seconds\n",
            "arm wrestling:  0.99932\n",
            "playing chess:  0.00007\n",
            "massaging feet:  0.00003\n",
            "tossing coin:  0.00002\n",
            "rock scissors paper:  0.00002\n",
            "\n",
            "\n",
            "\n",
            "--2021-03-28 10:49:05--  https://download.openmmlab.com/mmaction/recognition/tsn/tsn_r50_1x1x3_100e_kinetics400_rgb/tsn_r50_1x1x3_100e_kinetics400_rgb_20200614-e508be42.pth\n",
            "Resolving download.openmmlab.com (download.openmmlab.com)... 47.88.36.78\n",
            "Connecting to download.openmmlab.com (download.openmmlab.com)|47.88.36.78|:443... connected.\n",
            "HTTP request sent, awaiting response... 200 OK\n",
            "\n",
            "    The file is already fully retrieved; nothing to do.\n",
            "\n",
            "---------------------------------------\n",
            "tsn : execution duration : 0.498474 seconds\n",
            "arm wrestling:  25.66813\n",
            "rock scissors paper:  9.76665\n",
            "shaking hands:  8.80924\n",
            "clapping:  8.33314\n",
            "stretching leg:  7.59436\n",
            "\n",
            "\n",
            "\n",
            "--2021-03-28 10:49:07--  https://download.openmmlab.com/mmaction/recognition/i3d/i3d_r50_video_32x2x1_100e_kinetics400_rgb/i3d_r50_video_32x2x1_100e_kinetics400_rgb_20200826-e31c6f52.pth\n",
            "Resolving download.openmmlab.com (download.openmmlab.com)... 47.88.36.78\n",
            "Connecting to download.openmmlab.com (download.openmmlab.com)|47.88.36.78|:443... connected.\n",
            "HTTP request sent, awaiting response... 200 OK\n",
            "\n",
            "    The file is already fully retrieved; nothing to do.\n",
            "\n",
            "---------------------------------------\n",
            "i3d : execution duration : 2.466038 seconds\n",
            "arm wrestling:  0.99563\n",
            "drinking:  0.00058\n",
            "rock scissors paper:  0.00024\n",
            "drinking beer:  0.00021\n",
            "waxing legs:  0.00020\n",
            "\n",
            "\n",
            "\n",
            "--2021-03-28 10:49:12--  https://download.openmmlab.com/mmaction/recognition/tsm/tsm_r50_video_1x1x8_100e_kinetics400_rgb/tsm_r50_video_1x1x8_100e_kinetics400_rgb_20200702-a77f4328.pth\n",
            "Resolving download.openmmlab.com (download.openmmlab.com)... 47.88.36.78\n",
            "Connecting to download.openmmlab.com (download.openmmlab.com)|47.88.36.78|:443... connected.\n",
            "HTTP request sent, awaiting response... 200 OK\n",
            "\n",
            "    The file is already fully retrieved; nothing to do.\n",
            "\n",
            "---------------------------------------\n",
            "tsm : execution duration : 0.194729 seconds\n",
            "arm wrestling:  1.00000\n",
            "rock scissors paper:  0.00000\n",
            "stretching leg:  0.00000\n",
            "massaging feet:  0.00000\n",
            "shaking hands:  0.00000\n",
            "\n",
            "\n",
            "\n"
          ],
          "name": "stdout"
        }
      ]
    },
    {
      "cell_type": "markdown",
      "metadata": {
        "id": "X3RW7WSqR3Qv"
      },
      "source": [
        "# Create custom dataset"
      ]
    },
    {
      "cell_type": "code",
      "metadata": {
        "id": "m-OyQxS0ahRP"
      },
      "source": [
        "# reduce scope of video to use in custom dataset\n",
        "def dataset_reduce_scope(folder_path, source_filename, target_filename, labels, limit):\n",
        "  counts = dict((val, 0) for val in labels)\n",
        "  line_index = 0\n",
        "  fileTarget = open(osp.join(folder_path, target_filename), 'w')\n",
        "  fileSource = open(osp.join(folder_path, source_filename), 'r')\n",
        "  while True:\n",
        "    line_index = line_index + 1\n",
        "    line = fileSource.readline()\n",
        "    if not line:\n",
        "        break\n",
        "\n",
        "    is_supported = False\n",
        "    for label in labels:\n",
        "      if line.startswith( label ):\n",
        "        counts[label] = counts[label] + 1\n",
        "        if counts[label] <= limit:\n",
        "          is_supported = True\n",
        "\n",
        "    if is_supported or line_index == 1:\n",
        "      fileTarget.write(line)\n",
        "\n",
        "  fileSource.close()\n",
        "  fileTarget.close()"
      ],
      "execution_count": 8,
      "outputs": []
    },
    {
      "cell_type": "markdown",
      "metadata": {
        "id": "U0yyVLUtcX5E"
      },
      "source": [
        "## kinetics 700"
      ]
    },
    {
      "cell_type": "code",
      "metadata": {
        "id": "k0fryC2hqzIT"
      },
      "source": [
        "!rm -rf /content/work_dir_kinetics700"
      ],
      "execution_count": 9,
      "outputs": []
    },
    {
      "cell_type": "code",
      "metadata": {
        "colab": {
          "base_uri": "https://localhost:8080/"
        },
        "id": "kwkyasfePs9b",
        "outputId": "49c7d0d9-a18c-46e1-c6ff-2e3e7ed43c10"
      },
      "source": [
        "# download annotations from dataset provider : here Kinetics 700\n",
        "# reference : https://github.com/open-mmlab/mmaction2/tree/master/tools/data/kinetics\n",
        "# before to run : update /content/mmaction2/tools/data/kinetics/download.py set num-jobs to 1 to avoid error on video cut\n",
        "%cd /content/mmaction2/tools/data/kinetics\n",
        "!rm -rf /content/mmaction2/data/kinetics700\n",
        "\n",
        "!bash download_annotations.sh kinetics700\n",
        "\n",
        "!mv /content/mmaction2/data/kinetics700/annotations/kinetics_train.csv /content/mmaction2/data/kinetics700/annotations/kinetics_train_full.csv\n",
        "!mv /content/mmaction2/data/kinetics700/annotations/kinetics_val.csv /content/mmaction2/data/kinetics700/annotations/kinetics_val_full.csv\n",
        "!mv /content/mmaction2/data/kinetics700/annotations/kinetics_test.csv /content/mmaction2/data/kinetics700/annotations/kinetics_test_full.csv\n",
        "\n",
        "supported_labels = ['falling off chair', 'wrestling', 'yawning']\n",
        "dataset_reduce_scope('/content/mmaction2/data/kinetics700/annotations/', 'kinetics_train_full.csv', 'kinetics_train.csv', supported_labels, 50)\n",
        "dataset_reduce_scope('/content/mmaction2/data/kinetics700/annotations/', 'kinetics_val_full.csv', 'kinetics_val.csv', supported_labels, 5)\n",
        "dataset_reduce_scope('/content/mmaction2/data/kinetics700/annotations/', 'kinetics_test_full.csv', 'kinetics_test.csv', [], 1) # just empty file to avoid crash\n",
        "\n",
        "# download videos\n",
        "!bash download_videos.sh kinetics700\n",
        "\n",
        "# clean up\n",
        "!bash rename_classnames.sh kinetics700\n",
        "\n",
        "# resize -> not working !\n",
        "#!python /content/mmaction2/tools/data/resize_video.py /content/mmaction2/data/kinetics700/videos_train/ /content/mmaction2/data/kinetics700/videos_train_256p_dense_cache --dense --level 2\n",
        "\n",
        "# prepare files\n",
        "!bash generate_videos_filelist.sh kinetics700\n"
      ],
      "execution_count": 10,
      "outputs": [
        {
          "output_type": "stream",
          "text": [
            "/content/mmaction2/tools/data/kinetics\n",
            "We are processing kinetics700\n",
            "../../../data/kinetics700/annotations does not exist. Creating\n",
            "--2021-03-28 05:24:22--  https://storage.googleapis.com/deepmind-media/Datasets/kinetics700.tar.gz\n",
            "Resolving storage.googleapis.com (storage.googleapis.com)... 172.253.115.128, 172.253.122.128, 172.217.2.112, ...\n",
            "Connecting to storage.googleapis.com (storage.googleapis.com)|172.253.115.128|:443... connected.\n",
            "HTTP request sent, awaiting response... 200 OK\n",
            "Length: 24740173 (24M) [application/octet-stream]\n",
            "Saving to: ‘kinetics700.tar.gz’\n",
            "\n",
            "kinetics700.tar.gz  100%[===================>]  23.59M  60.6MB/s    in 0.4s    \n",
            "\n",
            "2021-03-28 05:24:22 (60.6 MB/s) - ‘kinetics700.tar.gz’ saved [24740173/24740173]\n",
            "\n",
            "kinetics700/validate.json\n",
            "kinetics700/validate.csv\n",
            "kinetics700/train.json\n",
            "kinetics700/train.csv\n",
            "kinetics700/test.json\n",
            "kinetics700/test.csv\n",
            "download_videos.sh: line 4: conda: command not found\n",
            "download_videos.sh: line 5: activate: No such file or directory\n",
            "Collecting youtube-dl\n",
            "\u001b[?25l  Downloading https://files.pythonhosted.org/packages/4e/f7/e51b361789bd2085a2e9d9e3eaa3070c10b755dff3623c1ae5222acee9e0/youtube_dl-2021.3.25-py2.py3-none-any.whl (1.9MB)\n",
            "\u001b[K     |████████████████████████████████| 1.9MB 16.1MB/s \n",
            "\u001b[?25hInstalling collected packages: youtube-dl\n",
            "Successfully installed youtube-dl-2021.3.25\n",
            "We are processing kinetics700\n",
            "youtube-dl --quiet --no-warnings --no-check-certificate -f mp4 -o \"/tmp/kinetics/08811343-d106-4df1-8d0d-2ec24d60e30f.%(ext)s\" \"https://www.youtube.com/watch?v=-0HKFF7F_BY\"\n",
            "youtube-dl --quiet --no-warnings --no-check-certificate -f mp4 -o \"/tmp/kinetics/81cadd61-0249-4868-8f02-96b3954f21b9.%(ext)s\" \"https://www.youtube.com/watch?v=-1X2dCZixm0\"\n",
            "youtube-dl --quiet --no-warnings --no-check-certificate -f mp4 -o \"/tmp/kinetics/a4d2d95a-b7f0-4807-912c-63a3c0cc7bb2.%(ext)s\" \"https://www.youtube.com/watch?v=-5hw88bD4mE\"\n",
            "youtube-dl --quiet --no-warnings --no-check-certificate -f mp4 -o \"/tmp/kinetics/76e6b560-c962-4a35-a70c-0861080aa1ed.%(ext)s\" \"https://www.youtube.com/watch?v=-6ezg_-7Bck\"\n",
            "youtube-dl --quiet --no-warnings --no-check-certificate -f mp4 -o \"/tmp/kinetics/d7c7aa7d-13b2-48a2-ab48-abbc01f3a734.%(ext)s\" \"https://www.youtube.com/watch?v=-BaXTkiViAE\"\n",
            "youtube-dl --quiet --no-warnings --no-check-certificate -f mp4 -o \"/tmp/kinetics/bcbbc394-21fc-4208-a4d3-33e125aa5243.%(ext)s\" \"https://www.youtube.com/watch?v=-CqVQl5VZtg\"\n",
            "youtube-dl --quiet --no-warnings --no-check-certificate -f mp4 -o \"/tmp/kinetics/8ff53186-13e2-47b0-949f-7685d97eea1c.%(ext)s\" \"https://www.youtube.com/watch?v=-Fmo9kHEV7M\"\n",
            "youtube-dl --quiet --no-warnings --no-check-certificate -f mp4 -o \"/tmp/kinetics/3276911c-20e6-49b3-9463-2d092ec5f483.%(ext)s\" \"https://www.youtube.com/watch?v=-KN26OH63WU\"\n",
            "youtube-dl --quiet --no-warnings --no-check-certificate -f mp4 -o \"/tmp/kinetics/df3e20c4-694c-40bb-8836-65de7cd5dccf.%(ext)s\" \"https://www.youtube.com/watch?v=-KzoGGijJ58\"\n",
            "youtube-dl --quiet --no-warnings --no-check-certificate -f mp4 -o \"/tmp/kinetics/ab48cb39-7818-488b-93df-d251f7e44beb.%(ext)s\" \"https://www.youtube.com/watch?v=-MSkT_LSg_k\"\n",
            "youtube-dl --quiet --no-warnings --no-check-certificate -f mp4 -o \"/tmp/kinetics/bbf9b0a1-84e1-4020-be1a-7d18b432ae68.%(ext)s\" \"https://www.youtube.com/watch?v=-MqpifyByYs\"\n",
            "youtube-dl --quiet --no-warnings --no-check-certificate -f mp4 -o \"/tmp/kinetics/b50d3120-e49d-4e8c-8bf6-aead69df5883.%(ext)s\" \"https://www.youtube.com/watch?v=-NzJkvtLxyA\"\n",
            "youtube-dl --quiet --no-warnings --no-check-certificate -f mp4 -o \"/tmp/kinetics/9bc66a89-3dd1-4408-a088-2ea7641de74f.%(ext)s\" \"https://www.youtube.com/watch?v=-Wd5fsLgacE\"\n",
            "youtube-dl --quiet --no-warnings --no-check-certificate -f mp4 -o \"/tmp/kinetics/819aa520-0344-4549-9ecf-2980f3771619.%(ext)s\" \"https://www.youtube.com/watch?v=-XlcvNNtF6c\"\n",
            "youtube-dl --quiet --no-warnings --no-check-certificate -f mp4 -o \"/tmp/kinetics/05643d57-321f-44fb-b956-ef19933fdc4d.%(ext)s\" \"https://www.youtube.com/watch?v=-Y2rKtTIwcc\"\n",
            "youtube-dl --quiet --no-warnings --no-check-certificate -f mp4 -o \"/tmp/kinetics/f699296a-d8e7-4c00-a4a9-73287ac2843a.%(ext)s\" \"https://www.youtube.com/watch?v=-bI1SBcxSEQ\"\n",
            "youtube-dl --quiet --no-warnings --no-check-certificate -f mp4 -o \"/tmp/kinetics/7d8cf681-d75d-4312-8618-78f7969424a9.%(ext)s\" \"https://www.youtube.com/watch?v=-cQG3mhrfxY\"\n",
            "youtube-dl --quiet --no-warnings --no-check-certificate -f mp4 -o \"/tmp/kinetics/cf7ac876-0ad9-4c85-8621-8b2060d76af8.%(ext)s\" \"https://www.youtube.com/watch?v=-dqZfEG3E3U\"\n",
            "youtube-dl --quiet --no-warnings --no-check-certificate -f mp4 -o \"/tmp/kinetics/fc356722-5f2f-437c-a087-0ff75c80887c.%(ext)s\" \"https://www.youtube.com/watch?v=-ipXg23aaS8\"\n",
            "youtube-dl --quiet --no-warnings --no-check-certificate -f mp4 -o \"/tmp/kinetics/b987dad8-436d-4847-95fd-65e96ad72036.%(ext)s\" \"https://www.youtube.com/watch?v=-kd7xl744Zc\"\n",
            "youtube-dl --quiet --no-warnings --no-check-certificate -f mp4 -o \"/tmp/kinetics/ec5c99c2-4de9-4bbe-8423-0c19069ddbf1.%(ext)s\" \"https://www.youtube.com/watch?v=-m63JYdqVmI\"\n",
            "youtube-dl --quiet --no-warnings --no-check-certificate -f mp4 -o \"/tmp/kinetics/edaa51ab-b80e-4116-bc5e-b492d7f6d5ba.%(ext)s\" \"https://www.youtube.com/watch?v=-nh4-K3ob1Q\"\n",
            "youtube-dl --quiet --no-warnings --no-check-certificate -f mp4 -o \"/tmp/kinetics/179cc87b-699d-41e9-a0f8-4d91b8aaa5db.%(ext)s\" \"https://www.youtube.com/watch?v=-oVfLsDN590\"\n",
            "youtube-dl --quiet --no-warnings --no-check-certificate -f mp4 -o \"/tmp/kinetics/dbaba563-4ac6-40ca-b30c-b7916f5aef31.%(ext)s\" \"https://www.youtube.com/watch?v=-pfukT9bnqg\"\n",
            "youtube-dl --quiet --no-warnings --no-check-certificate -f mp4 -o \"/tmp/kinetics/e0457fd9-6e2d-4f71-9908-27fda16590f5.%(ext)s\" \"https://www.youtube.com/watch?v=-r7yBRtNGgs\"\n",
            "youtube-dl --quiet --no-warnings --no-check-certificate -f mp4 -o \"/tmp/kinetics/08bccc7e-1101-4dfd-b863-e388bdfeb7e1.%(ext)s\" \"https://www.youtube.com/watch?v=-rmXdO31NjE\"\n",
            "youtube-dl --quiet --no-warnings --no-check-certificate -f mp4 -o \"/tmp/kinetics/80e029fc-d0a1-4c35-b62c-ea33b0f5622c.%(ext)s\" \"https://www.youtube.com/watch?v=-tTBQvmKfEs\"\n",
            "youtube-dl --quiet --no-warnings --no-check-certificate -f mp4 -o \"/tmp/kinetics/4fa8f969-8969-47ea-a787-3a9a9c3ce9ed.%(ext)s\" \"https://www.youtube.com/watch?v=-uUDFCXCvTs\"\n",
            "youtube-dl --quiet --no-warnings --no-check-certificate -f mp4 -o \"/tmp/kinetics/db6fd4f0-bf0f-410d-975d-1289ce7b5ef7.%(ext)s\" \"https://www.youtube.com/watch?v=-z40cOE5ECI\"\n",
            "youtube-dl --quiet --no-warnings --no-check-certificate -f mp4 -o \"/tmp/kinetics/b04364fc-2e52-46a3-80f4-06d9954c8514.%(ext)s\" \"https://www.youtube.com/watch?v=0-RNq6Hr63E\"\n",
            "youtube-dl --quiet --no-warnings --no-check-certificate -f mp4 -o \"/tmp/kinetics/2e45ef21-5780-481c-a333-49995a4b1216.%(ext)s\" \"https://www.youtube.com/watch?v=0-kXuuPtcPM\"\n",
            "youtube-dl --quiet --no-warnings --no-check-certificate -f mp4 -o \"/tmp/kinetics/cc0d854f-de3e-43e0-b5f5-ee2d16252e0f.%(ext)s\" \"https://www.youtube.com/watch?v=01ZMlNyvTdA\"\n",
            "youtube-dl --quiet --no-warnings --no-check-certificate -f mp4 -o \"/tmp/kinetics/52fd7bb5-1ac3-4c35-821c-f9e872ac6e3d.%(ext)s\" \"https://www.youtube.com/watch?v=01dMrDy-2w0\"\n",
            "youtube-dl --quiet --no-warnings --no-check-certificate -f mp4 -o \"/tmp/kinetics/c622b370-85e0-4aec-9c42-2754f7cb2f6b.%(ext)s\" \"https://www.youtube.com/watch?v=01lNGNM7p2Q\"\n",
            "youtube-dl --quiet --no-warnings --no-check-certificate -f mp4 -o \"/tmp/kinetics/f4840049-0592-4604-80fb-eb2c2a64c9da.%(ext)s\" \"https://www.youtube.com/watch?v=06u5p4FNohA\"\n",
            "youtube-dl --quiet --no-warnings --no-check-certificate -f mp4 -o \"/tmp/kinetics/5e1f6eff-103e-4f42-952b-6e6ee8fb3f47.%(ext)s\" \"https://www.youtube.com/watch?v=09uuyDQ2LLc\"\n",
            "youtube-dl --quiet --no-warnings --no-check-certificate -f mp4 -o \"/tmp/kinetics/a145b46b-0ed0-4710-99e7-1209d9358030.%(ext)s\" \"https://www.youtube.com/watch?v=0ACLm42nhEo\"\n",
            "youtube-dl --quiet --no-warnings --no-check-certificate -f mp4 -o \"/tmp/kinetics/6f69db8c-398a-498c-8186-c29c911756d1.%(ext)s\" \"https://www.youtube.com/watch?v=0AgABdCTRR8\"\n",
            "youtube-dl --quiet --no-warnings --no-check-certificate -f mp4 -o \"/tmp/kinetics/b478c19a-7016-4293-8234-bac95822e5fa.%(ext)s\" \"https://www.youtube.com/watch?v=0D5PDhgaG4I\"\n",
            "youtube-dl --quiet --no-warnings --no-check-certificate -f mp4 -o \"/tmp/kinetics/c41a717a-adeb-4d54-b088-3840587c12ce.%(ext)s\" \"https://www.youtube.com/watch?v=0DLTBMDgVWY\"\n",
            "youtube-dl --quiet --no-warnings --no-check-certificate -f mp4 -o \"/tmp/kinetics/9680404d-908e-48dc-9a49-c79cb02d7e51.%(ext)s\" \"https://www.youtube.com/watch?v=0GitklZt-_Q\"\n",
            "youtube-dl --quiet --no-warnings --no-check-certificate -f mp4 -o \"/tmp/kinetics/3f1c88c7-3b14-4c63-8310-12277775b121.%(ext)s\" \"https://www.youtube.com/watch?v=0HGw3znzV6c\"\n",
            "youtube-dl --quiet --no-warnings --no-check-certificate -f mp4 -o \"/tmp/kinetics/1a4b836a-6d39-4cbd-9945-2117f4eb7b51.%(ext)s\" \"https://www.youtube.com/watch?v=0LUNHpZmCsU\"\n",
            "youtube-dl --quiet --no-warnings --no-check-certificate -f mp4 -o \"/tmp/kinetics/e01a13aa-2bda-4e6a-ab61-286d6eb59577.%(ext)s\" \"https://www.youtube.com/watch?v=0M2ZILy9j9I\"\n",
            "youtube-dl --quiet --no-warnings --no-check-certificate -f mp4 -o \"/tmp/kinetics/88157a38-8cd0-4e50-a3bd-577d64a52d02.%(ext)s\" \"https://www.youtube.com/watch?v=0QfqAmCtyw0\"\n",
            "youtube-dl --quiet --no-warnings --no-check-certificate -f mp4 -o \"/tmp/kinetics/f845277c-27c0-418a-9b08-bc47ad8ef595.%(ext)s\" \"https://www.youtube.com/watch?v=0TT9INXxVog\"\n",
            "youtube-dl --quiet --no-warnings --no-check-certificate -f mp4 -o \"/tmp/kinetics/5627baa5-f042-4a1d-a1a9-bfad4231171a.%(ext)s\" \"https://www.youtube.com/watch?v=0TnhaaEA1Rg\"\n",
            "youtube-dl --quiet --no-warnings --no-check-certificate -f mp4 -o \"/tmp/kinetics/5b86a986-b2d6-4727-a9b2-f4a28da44a4b.%(ext)s\" \"https://www.youtube.com/watch?v=0Zu2su8uuH4\"\n",
            "youtube-dl --quiet --no-warnings --no-check-certificate -f mp4 -o \"/tmp/kinetics/02ccf8f8-e588-45ea-bcc7-8963f7a8f29d.%(ext)s\" \"https://www.youtube.com/watch?v=0_2HAutrjw8\"\n",
            "youtube-dl --quiet --no-warnings --no-check-certificate -f mp4 -o \"/tmp/kinetics/9933b023-f67a-44d3-8110-28756655d3c7.%(ext)s\" \"https://www.youtube.com/watch?v=0b4JeBG60Ew\"\n",
            "youtube-dl --quiet --no-warnings --no-check-certificate -f mp4 -o \"/tmp/kinetics/f5c28bb7-009f-4385-b8b8-b4fc14e4f0bd.%(ext)s\" \"https://www.youtube.com/watch?v=0gcAUYTl33M\"\n",
            "youtube-dl --quiet --no-warnings --no-check-certificate -f mp4 -o \"/tmp/kinetics/82ae2317-5698-4777-9d03-e9df19e7e41f.%(ext)s\" \"https://www.youtube.com/watch?v=0o9CUrNcymw\"\n",
            "youtube-dl --quiet --no-warnings --no-check-certificate -f mp4 -o \"/tmp/kinetics/cad8b6b8-d1e9-4daf-bb8d-e5d1695b2854.%(ext)s\" \"https://www.youtube.com/watch?v=0oqoF9Kxim0\"\n",
            "youtube-dl --quiet --no-warnings --no-check-certificate -f mp4 -o \"/tmp/kinetics/bdf7b158-f09f-44a9-b60e-674c879daf67.%(ext)s\" \"https://www.youtube.com/watch?v=0sN5PTQVGrs\"\n",
            "youtube-dl --quiet --no-warnings --no-check-certificate -f mp4 -o \"/tmp/kinetics/d58071cb-a88a-4783-ab5c-28228794cddc.%(ext)s\" \"https://www.youtube.com/watch?v=0tN6Zev1kJI\"\n",
            "youtube-dl --quiet --no-warnings --no-check-certificate -f mp4 -o \"/tmp/kinetics/fca69b38-1ada-4354-bc11-293eaec3f756.%(ext)s\" \"https://www.youtube.com/watch?v=0uVxk84MXVE\"\n",
            "youtube-dl --quiet --no-warnings --no-check-certificate -f mp4 -o \"/tmp/kinetics/a5b4c01f-3e0d-4182-b99d-b13894e76b6e.%(ext)s\" \"https://www.youtube.com/watch?v=0wZystKfrH8\"\n",
            "youtube-dl --quiet --no-warnings --no-check-certificate -f mp4 -o \"/tmp/kinetics/0383afbc-2029-4496-ad26-b307126eac2d.%(ext)s\" \"https://www.youtube.com/watch?v=0xJzTTPKfXo\"\n",
            "youtube-dl --quiet --no-warnings --no-check-certificate -f mp4 -o \"/tmp/kinetics/0099f11a-bc11-432e-9dd5-b91daf5fefb5.%(ext)s\" \"https://www.youtube.com/watch?v=1-i-QI_ugJU\"\n",
            "youtube-dl --quiet --no-warnings --no-check-certificate -f mp4 -o \"/tmp/kinetics/5083e4ca-04c0-4bf8-a99a-76552de7ccca.%(ext)s\" \"https://www.youtube.com/watch?v=11yKbMNwjG8\"\n",
            "youtube-dl --quiet --no-warnings --no-check-certificate -f mp4 -o \"/tmp/kinetics/eb2b1a13-bbe3-41b9-9675-68c5182a415a.%(ext)s\" \"https://www.youtube.com/watch?v=12O4rcl7Mog\"\n",
            "youtube-dl --quiet --no-warnings --no-check-certificate -f mp4 -o \"/tmp/kinetics/61c55b2b-0bd7-4c23-aef3-7c61f0c8d050.%(ext)s\" \"https://www.youtube.com/watch?v=12mfWQnrJmI\"\n",
            "youtube-dl --quiet --no-warnings --no-check-certificate -f mp4 -o \"/tmp/kinetics/227f77da-bbee-4f8b-8bae-f1ff7bbf2355.%(ext)s\" \"https://www.youtube.com/watch?v=14-8ECXgd6A\"\n",
            "youtube-dl --quiet --no-warnings --no-check-certificate -f mp4 -o \"/tmp/kinetics/f0a9e750-89f8-45bd-a9cc-957103d9d4ac.%(ext)s\" \"https://www.youtube.com/watch?v=145Bo-XkigU\"\n",
            "youtube-dl --quiet --no-warnings --no-check-certificate -f mp4 -o \"/tmp/kinetics/4de54bce-a137-4c27-a8b7-6c2a427b1ba3.%(ext)s\" \"https://www.youtube.com/watch?v=145t-jGu5LM\"\n",
            "youtube-dl --quiet --no-warnings --no-check-certificate -f mp4 -o \"/tmp/kinetics/25f8a30e-109b-47f6-a89b-c19991fa38fa.%(ext)s\" \"https://www.youtube.com/watch?v=147jbzb4oIk\"\n",
            "youtube-dl --quiet --no-warnings --no-check-certificate -f mp4 -o \"/tmp/kinetics/d77ecea9-c55a-463e-935b-d635d04d902c.%(ext)s\" \"https://www.youtube.com/watch?v=1493rym-xBo\"\n",
            "youtube-dl --quiet --no-warnings --no-check-certificate -f mp4 -o \"/tmp/kinetics/91952b62-db8d-4bd2-9200-47b8db2e1c22.%(ext)s\" \"https://www.youtube.com/watch?v=14_cuv6CQRw\"\n",
            "youtube-dl --quiet --no-warnings --no-check-certificate -f mp4 -o \"/tmp/kinetics/6c6a9922-8800-43ca-bb8d-ea4ba7f76af6.%(ext)s\" \"https://www.youtube.com/watch?v=14wxu56xGjw\"\n",
            "youtube-dl --quiet --no-warnings --no-check-certificate -f mp4 -o \"/tmp/kinetics/177bc65d-34c9-4931-a5a1-f00457a01c55.%(ext)s\" \"https://www.youtube.com/watch?v=15AoWnSoFP0\"\n",
            "youtube-dl --quiet --no-warnings --no-check-certificate -f mp4 -o \"/tmp/kinetics/cbca4d28-7d4b-4efa-ba62-14ffeb58f5de.%(ext)s\" \"https://www.youtube.com/watch?v=15AyhkfFFkc\"\n",
            "youtube-dl --quiet --no-warnings --no-check-certificate -f mp4 -o \"/tmp/kinetics/12ebcd63-ccc9-45c4-9f24-d0a0f79c3848.%(ext)s\" \"https://www.youtube.com/watch?v=15B2iELl1P0\"\n",
            "youtube-dl --quiet --no-warnings --no-check-certificate -f mp4 -o \"/tmp/kinetics/150876f8-4b27-42d7-a1ee-3c98f9b0cca9.%(ext)s\" \"https://www.youtube.com/watch?v=15F9uMJkYEs\"\n",
            "youtube-dl --quiet --no-warnings --no-check-certificate -f mp4 -o \"/tmp/kinetics/dc6ed30f-ad76-4873-b44d-3b36cb58d126.%(ext)s\" \"https://www.youtube.com/watch?v=15FGJvqmN7k\"\n",
            "youtube-dl --quiet --no-warnings --no-check-certificate -f mp4 -o \"/tmp/kinetics/8ab09014-8e96-4c7a-b007-2a03fe090614.%(ext)s\" \"https://www.youtube.com/watch?v=15MerozdV7Q\"\n",
            "youtube-dl --quiet --no-warnings --no-check-certificate -f mp4 -o \"/tmp/kinetics/fd2a7e32-3192-4ea7-b04a-8e88f84708a1.%(ext)s\" \"https://www.youtube.com/watch?v=15MyczBK8ko\"\n",
            "youtube-dl --quiet --no-warnings --no-check-certificate -f mp4 -o \"/tmp/kinetics/fd9f4dbf-c70e-49dc-8ed3-7b7bcc1009d0.%(ext)s\" \"https://www.youtube.com/watch?v=1CZOpQHoiNo\"\n",
            "youtube-dl --quiet --no-warnings --no-check-certificate -f mp4 -o \"/tmp/kinetics/0bb01995-7dc9-42c0-8eb0-94c51a258cda.%(ext)s\" \"https://www.youtube.com/watch?v=1EAgH1MURnM\"\n",
            "youtube-dl --quiet --no-warnings --no-check-certificate -f mp4 -o \"/tmp/kinetics/47faf72a-a80d-4349-af76-6002a0113bcf.%(ext)s\" \"https://www.youtube.com/watch?v=1ENX0xTvG-U\"\n",
            "youtube-dl --quiet --no-warnings --no-check-certificate -f mp4 -o \"/tmp/kinetics/52bb9006-2bd7-4726-aef2-066e583daecf.%(ext)s\" \"https://www.youtube.com/watch?v=1HKzIyOW2Hk\"\n",
            "youtube-dl --quiet --no-warnings --no-check-certificate -f mp4 -o \"/tmp/kinetics/4cb60f58-7cdb-4c69-8769-66d7dd58863d.%(ext)s\" \"https://www.youtube.com/watch?v=1LmcORQIbfQ\"\n",
            "youtube-dl --quiet --no-warnings --no-check-certificate -f mp4 -o \"/tmp/kinetics/6908f06c-737e-4ded-8ac4-4c2088aedb62.%(ext)s\" \"https://www.youtube.com/watch?v=1MymGbvqfiw\"\n",
            "youtube-dl --quiet --no-warnings --no-check-certificate -f mp4 -o \"/tmp/kinetics/51690761-048c-41c9-9a7f-cb16cef785c8.%(ext)s\" \"https://www.youtube.com/watch?v=1RZYhr6hly4\"\n",
            "youtube-dl --quiet --no-warnings --no-check-certificate -f mp4 -o \"/tmp/kinetics/505ba2e4-ee4b-41a6-b29d-4a59bd841a53.%(ext)s\" \"https://www.youtube.com/watch?v=1RlZ4I3AMEU\"\n",
            "youtube-dl --quiet --no-warnings --no-check-certificate -f mp4 -o \"/tmp/kinetics/b54ab261-94e8-4544-ac35-c891b4924212.%(ext)s\" \"https://www.youtube.com/watch?v=1V5v5janASE\"\n",
            "youtube-dl --quiet --no-warnings --no-check-certificate -f mp4 -o \"/tmp/kinetics/4239a956-8439-4386-8104-e59b692f52ca.%(ext)s\" \"https://www.youtube.com/watch?v=1WWbRE_OjCs\"\n",
            "youtube-dl --quiet --no-warnings --no-check-certificate -f mp4 -o \"/tmp/kinetics/0c1fa783-a750-4e35-b366-eff1cdbdbed9.%(ext)s\" \"https://www.youtube.com/watch?v=1_DM_Tk8BTc\"\n",
            "youtube-dl --quiet --no-warnings --no-check-certificate -f mp4 -o \"/tmp/kinetics/9acb3688-6c35-4377-a6a6-7c58c088d6ba.%(ext)s\" \"https://www.youtube.com/watch?v=1bBFHZ9MkIM\"\n",
            "youtube-dl --quiet --no-warnings --no-check-certificate -f mp4 -o \"/tmp/kinetics/6d44af0c-02f6-4d89-bb8b-01c695d1759f.%(ext)s\" \"https://www.youtube.com/watch?v=1bBc4d9b3ak\"\n",
            "youtube-dl --quiet --no-warnings --no-check-certificate -f mp4 -o \"/tmp/kinetics/222e98e1-c10f-4de1-8340-dcb95669463f.%(ext)s\" \"https://www.youtube.com/watch?v=1bC_0TiWf9I\"\n",
            "youtube-dl --quiet --no-warnings --no-check-certificate -f mp4 -o \"/tmp/kinetics/1c7b03c8-cca6-4c22-9544-802fa6983762.%(ext)s\" \"https://www.youtube.com/watch?v=1bO1qgVT5lk\"\n",
            "youtube-dl --quiet --no-warnings --no-check-certificate -f mp4 -o \"/tmp/kinetics/26c46b28-51f7-4c05-b7b4-303291f044a9.%(ext)s\" \"https://www.youtube.com/watch?v=1c5CI96nH-Q\"\n",
            "youtube-dl --quiet --no-warnings --no-check-certificate -f mp4 -o \"/tmp/kinetics/6fb6748b-ce97-49b3-9631-1337dc06c898.%(ext)s\" \"https://www.youtube.com/watch?v=1dcgYqm-SCo\"\n",
            "youtube-dl --quiet --no-warnings --no-check-certificate -f mp4 -o \"/tmp/kinetics/df4017ae-42c5-4cf2-b83b-8cb9efcdb01e.%(ext)s\" \"https://www.youtube.com/watch?v=1gl5_LQtp7A\"\n",
            "youtube-dl --quiet --no-warnings --no-check-certificate -f mp4 -o \"/tmp/kinetics/02cab821-276a-4fb3-b733-d09997171bd0.%(ext)s\" \"https://www.youtube.com/watch?v=1hxsIUSAm9c\"\n",
            "youtube-dl --quiet --no-warnings --no-check-certificate -f mp4 -o \"/tmp/kinetics/57a69de0-f322-4711-b6fc-c6ef349d1fd1.%(ext)s\" \"https://www.youtube.com/watch?v=1kjR6nrbbgk\"\n",
            "youtube-dl --quiet --no-warnings --no-check-certificate -f mp4 -o \"/tmp/kinetics/c5cb767a-2267-43ba-9dc1-0b5c6975c72c.%(ext)s\" \"https://www.youtube.com/watch?v=1nigvZmD544\"\n",
            "youtube-dl --quiet --no-warnings --no-check-certificate -f mp4 -o \"/tmp/kinetics/135ebe2d-3b28-4d6e-a7c6-691f615b3a3d.%(ext)s\" \"https://www.youtube.com/watch?v=1oJGT91XJt0\"\n",
            "youtube-dl --quiet --no-warnings --no-check-certificate -f mp4 -o \"/tmp/kinetics/dd600b4d-466e-471d-bf2e-0924500b83af.%(ext)s\" \"https://www.youtube.com/watch?v=1r1pdEH6Lhk\"\n",
            "youtube-dl --quiet --no-warnings --no-check-certificate -f mp4 -o \"/tmp/kinetics/69702565-37ff-4d9f-98a1-91fd62e84638.%(ext)s\" \"https://www.youtube.com/watch?v=1w2WLa4EnqI\"\n",
            "youtube-dl --quiet --no-warnings --no-check-certificate -f mp4 -o \"/tmp/kinetics/f69cf56e-993c-480a-bce5-3b39ed10c61a.%(ext)s\" \"https://www.youtube.com/watch?v=1ywNIjTjZ3Q\"\n",
            "youtube-dl --quiet --no-warnings --no-check-certificate -f mp4 -o \"/tmp/kinetics/27b8e637-0fd1-4e64-aae7-353f4ec71c9f.%(ext)s\" \"https://www.youtube.com/watch?v=1zMgexyszQc\"\n",
            "youtube-dl --quiet --no-warnings --no-check-certificate -f mp4 -o \"/tmp/kinetics/cc51d3e0-2967-45c5-82e8-2651e8ad5fbe.%(ext)s\" \"https://www.youtube.com/watch?v=2-IuILRj_So\"\n",
            "youtube-dl --quiet --no-warnings --no-check-certificate -f mp4 -o \"/tmp/kinetics/d56694a6-3d2a-4221-9f62-ee6a132c572a.%(ext)s\" \"https://www.youtube.com/watch?v=20PlvMjrPuY\"\n",
            "youtube-dl --quiet --no-warnings --no-check-certificate -f mp4 -o \"/tmp/kinetics/5be9411f-247a-4523-aed2-d57a6a59068c.%(ext)s\" \"https://www.youtube.com/watch?v=21cgDEnjlck\"\n",
            "youtube-dl --quiet --no-warnings --no-check-certificate -f mp4 -o \"/tmp/kinetics/aa4718c4-f4e3-4c2b-bb7c-2c72f947d8b2.%(ext)s\" \"https://www.youtube.com/watch?v=24AoxMwPy8Y\"\n",
            "youtube-dl --quiet --no-warnings --no-check-certificate -f mp4 -o \"/tmp/kinetics/8e4cc6e9-cb00-4bfa-9c62-23dbe6446ae2.%(ext)s\" \"https://www.youtube.com/watch?v=27EKtcQt_Mg\"\n",
            "youtube-dl --quiet --no-warnings --no-check-certificate -f mp4 -o \"/tmp/kinetics/0e203ba9-a9bf-454e-b3a6-55a3ecf4fc55.%(ext)s\" \"https://www.youtube.com/watch?v=27m9XgGbYA4\"\n",
            "youtube-dl --quiet --no-warnings --no-check-certificate -f mp4 -o \"/tmp/kinetics/3c9c7c5b-8cc6-4396-8049-896c18e6c039.%(ext)s\" \"https://www.youtube.com/watch?v=2EOcCD84lQs\"\n",
            "youtube-dl --quiet --no-warnings --no-check-certificate -f mp4 -o \"/tmp/kinetics/ef457182-d43e-47de-bbb5-41fd2770bd26.%(ext)s\" \"https://www.youtube.com/watch?v=2F4eTEGmVuU\"\n",
            "youtube-dl --quiet --no-warnings --no-check-certificate -f mp4 -o \"/tmp/kinetics/fe870d7c-cf5d-42ba-ab10-fdc753e873a6.%(ext)s\" \"https://www.youtube.com/watch?v=2JDy4T_dG1E\"\n",
            "youtube-dl --quiet --no-warnings --no-check-certificate -f mp4 -o \"/tmp/kinetics/da549d85-7ead-4371-ad0a-e70b13df952c.%(ext)s\" \"https://www.youtube.com/watch?v=2Jf-cHoBxIU\"\n",
            "youtube-dl --quiet --no-warnings --no-check-certificate -f mp4 -o \"/tmp/kinetics/963adb55-12ad-472c-a0fc-640d6521a3f6.%(ext)s\" \"https://www.youtube.com/watch?v=2KZQSo-GGNg\"\n",
            "youtube-dl --quiet --no-warnings --no-check-certificate -f mp4 -o \"/tmp/kinetics/15b07020-02cd-4203-91ef-0c4ea935991c.%(ext)s\" \"https://www.youtube.com/watch?v=2NP4RAU0WV8\"\n",
            "youtube-dl --quiet --no-warnings --no-check-certificate -f mp4 -o \"/tmp/kinetics/d3f80645-4eab-49f7-882d-6d402696a0e4.%(ext)s\" \"https://www.youtube.com/watch?v=2NcDJ6EC3vQ\"\n",
            "youtube-dl --quiet --no-warnings --no-check-certificate -f mp4 -o \"/tmp/kinetics/0d67803b-19e9-4c85-be16-d97c211ae3e5.%(ext)s\" \"https://www.youtube.com/watch?v=2O3TCXTFfuo\"\n",
            "youtube-dl --quiet --no-warnings --no-check-certificate -f mp4 -o \"/tmp/kinetics/b2ae5689-6211-4191-a7a6-76072a1fe17b.%(ext)s\" \"https://www.youtube.com/watch?v=2OCGT41rYHU\"\n",
            "youtube-dl --quiet --no-warnings --no-check-certificate -f mp4 -o \"/tmp/kinetics/64d62e24-755c-4abc-a9ac-fcfc877d0702.%(ext)s\" \"https://www.youtube.com/watch?v=2Pv_F_nzxIA\"\n",
            "youtube-dl --quiet --no-warnings --no-check-certificate -f mp4 -o \"/tmp/kinetics/a6ead819-dbcc-4b09-ad42-c549b0a35b83.%(ext)s\" \"https://www.youtube.com/watch?v=2UO8KAT7VT4\"\n",
            "youtube-dl --quiet --no-warnings --no-check-certificate -f mp4 -o \"/tmp/kinetics/002a964c-7338-44c1-8863-ad7b695e6f5c.%(ext)s\" \"https://www.youtube.com/watch?v=2V0C7E0BirY\"\n",
            "youtube-dl --quiet --no-warnings --no-check-certificate -f mp4 -o \"/tmp/kinetics/5331967c-9e25-4df6-afe3-b319f5f0aa46.%(ext)s\" \"https://www.youtube.com/watch?v=2Wtw8fPxtaQ\"\n",
            "youtube-dl --quiet --no-warnings --no-check-certificate -f mp4 -o \"/tmp/kinetics/4a6215f2-ae4c-43ba-8363-f0455817f230.%(ext)s\" \"https://www.youtube.com/watch?v=2YCoIzdS2zw\"\n",
            "youtube-dl --quiet --no-warnings --no-check-certificate -f mp4 -o \"/tmp/kinetics/5c4fd564-637a-4bd0-b744-376affdb286d.%(ext)s\" \"https://www.youtube.com/watch?v=2aUZJGk3DPU\"\n",
            "youtube-dl --quiet --no-warnings --no-check-certificate -f mp4 -o \"/tmp/kinetics/6a67166a-5011-41ff-a523-131d76a3c8ef.%(ext)s\" \"https://www.youtube.com/watch?v=2bklQF2dFKI\"\n",
            "youtube-dl --quiet --no-warnings --no-check-certificate -f mp4 -o \"/tmp/kinetics/56d341ae-2af5-4f14-a201-58c08a79dfc0.%(ext)s\" \"https://www.youtube.com/watch?v=2d1QqHxzgqM\"\n",
            "youtube-dl --quiet --no-warnings --no-check-certificate -f mp4 -o \"/tmp/kinetics/b5666f01-8d33-4526-aefb-1dbd4dfbb3ce.%(ext)s\" \"https://www.youtube.com/watch?v=2ec8yYSh51M\"\n",
            "youtube-dl --quiet --no-warnings --no-check-certificate -f mp4 -o \"/tmp/kinetics/0f5c595a-c5f4-457c-b764-954b9e2a3935.%(ext)s\" \"https://www.youtube.com/watch?v=2ljAHVKqrD0\"\n",
            "youtube-dl --quiet --no-warnings --no-check-certificate -f mp4 -o \"/tmp/kinetics/9bb4d2e6-a325-40c4-9b99-b067a6979fb6.%(ext)s\" \"https://www.youtube.com/watch?v=2m1UCTcAZSM\"\n",
            "youtube-dl --quiet --no-warnings --no-check-certificate -f mp4 -o \"/tmp/kinetics/f8d7b22b-01e0-4a3c-bbb4-20eaad3237dd.%(ext)s\" \"https://www.youtube.com/watch?v=2nI3pR3E1JM\"\n",
            "youtube-dl --quiet --no-warnings --no-check-certificate -f mp4 -o \"/tmp/kinetics/ef1db2ec-4241-4275-b898-7b8238c61431.%(ext)s\" \"https://www.youtube.com/watch?v=2p5lc8onTkk\"\n",
            "youtube-dl --quiet --no-warnings --no-check-certificate -f mp4 -o \"/tmp/kinetics/765e659a-cb86-4742-89c4-20906c1eb3e8.%(ext)s\" \"https://www.youtube.com/watch?v=2pX9AB044AU\"\n",
            "youtube-dl --quiet --no-warnings --no-check-certificate -f mp4 -o \"/tmp/kinetics/d239c487-113a-42a1-a236-dc1889a6351d.%(ext)s\" \"https://www.youtube.com/watch?v=2rhkMhxEhx4\"\n",
            "youtube-dl --quiet --no-warnings --no-check-certificate -f mp4 -o \"/tmp/kinetics/cb9029f2-59c6-4364-bb4b-8f3b6a0c151c.%(ext)s\" \"https://www.youtube.com/watch?v=2tNekjEFCpA\"\n",
            "youtube-dl --quiet --no-warnings --no-check-certificate -f mp4 -o \"/tmp/kinetics/6d945c7b-30e5-44fc-9f43-00d4febcb0e0.%(ext)s\" \"https://www.youtube.com/watch?v=2v-o8mX_b3I\"\n",
            "youtube-dl --quiet --no-warnings --no-check-certificate -f mp4 -o \"/tmp/kinetics/74c7e365-afe7-4dda-8a27-6b0351444a0c.%(ext)s\" \"https://www.youtube.com/watch?v=2v5I626sdKI\"\n",
            "youtube-dl --quiet --no-warnings --no-check-certificate -f mp4 -o \"/tmp/kinetics/d27276fa-2b40-44c1-8e63-211d2202cf55.%(ext)s\" \"https://www.youtube.com/watch?v=2v5kJvcJzYI\"\n",
            "youtube-dl --quiet --no-warnings --no-check-certificate -f mp4 -o \"/tmp/kinetics/b5cbe2e9-5ba5-4a0d-ba7f-4c6b9cb1c23c.%(ext)s\" \"https://www.youtube.com/watch?v=2wEGCT_SX4Y\"\n",
            "youtube-dl --quiet --no-warnings --no-check-certificate -f mp4 -o \"/tmp/kinetics/116c6a86-2ae4-4ca5-ada0-3e1bbb265f88.%(ext)s\" \"https://www.youtube.com/watch?v=2wI1SRDfN4E\"\n",
            "youtube-dl --quiet --no-warnings --no-check-certificate -f mp4 -o \"/tmp/kinetics/fd61b92e-6e8d-42a5-bd63-6f3b0b96bc8a.%(ext)s\" \"https://www.youtube.com/watch?v=2zEZr8_Hi3c\"\n",
            "youtube-dl --quiet --no-warnings --no-check-certificate -f mp4 -o \"/tmp/kinetics/97ae3def-7672-46e7-a5f9-105a0e35d70a.%(ext)s\" \"https://www.youtube.com/watch?v=31TqkNo5GJQ\"\n",
            "youtube-dl --quiet --no-warnings --no-check-certificate -f mp4 -o \"/tmp/kinetics/b81b6da1-512b-4067-8d50-a676e849cfb8.%(ext)s\" \"https://www.youtube.com/watch?v=32r-dz2Dew4\"\n",
            "youtube-dl --quiet --no-warnings --no-check-certificate -f mp4 -o \"/tmp/kinetics/f0f52711-2843-44de-9b42-7b0a3095c589.%(ext)s\" \"https://www.youtube.com/watch?v=33HP6Dfbgbo\"\n",
            "youtube-dl --quiet --no-warnings --no-check-certificate -f mp4 -o \"/tmp/kinetics/c7f78910-db9a-4c1f-bdce-cd8ffa036ad4.%(ext)s\" \"https://www.youtube.com/watch?v=362tmJCgUA0\"\n",
            "youtube-dl --quiet --no-warnings --no-check-certificate -f mp4 -o \"/tmp/kinetics/a5f3c786-abeb-401d-b6ee-55592c748e78.%(ext)s\" \"https://www.youtube.com/watch?v=36EhkidUqrA\"\n",
            "youtube-dl --quiet --no-warnings --no-check-certificate -f mp4 -o \"/tmp/kinetics/25627470-168e-4cf6-91b5-3be214f75409.%(ext)s\" \"https://www.youtube.com/watch?v=3IlP8uidLjg\"\n",
            "youtube-dl --quiet --no-warnings --no-check-certificate -f mp4 -o \"/tmp/kinetics/44ad6580-a853-480c-b2a6-097b2591ab32.%(ext)s\" \"https://www.youtube.com/watch?v=3Km6CfTlFnQ\"\n",
            "youtube-dl --quiet --no-warnings --no-check-certificate -f mp4 -o \"/tmp/kinetics/ee6ca8ef-7224-4dc6-9b40-7abb46a04e12.%(ext)s\" \"https://www.youtube.com/watch?v=3Q6zL1oJZDY\"\n",
            "youtube-dl --quiet --no-warnings --no-check-certificate -f mp4 -o \"/tmp/kinetics/f66e3e57-f0eb-4cc5-a06c-4879cfe2cdae.%(ext)s\" \"https://www.youtube.com/watch?v=3Q_bYqhe07A\"\n",
            "youtube-dl --quiet --no-warnings --no-check-certificate -f mp4 -o \"/tmp/kinetics/472d8023-a6c1-4db8-a984-01407e75be02.%(ext)s\" \"https://www.youtube.com/watch?v=3oVqvRHX5EU\"\n",
            "youtube-dl --quiet --no-warnings --no-check-certificate -f mp4 -o \"/tmp/kinetics/aadb24b0-3fd3-4ccd-a440-d2ac584846e2.%(ext)s\" \"https://www.youtube.com/watch?v=3vowqbvfI7I\"\n",
            "Traceback (most recent call last):\n",
            "  File \"download.py\", line 228, in <module>\n",
            "    main(**vars(p.parse_args()))\n",
            "  File \"download.py\", line 202, in main\n",
            "    fobj.write(json.dumps(status_list))\n",
            "  File \"/usr/lib/python3.7/json/__init__.py\", line 231, in dumps\n",
            "    return _default_encoder.encode(obj)\n",
            "  File \"/usr/lib/python3.7/json/encoder.py\", line 199, in encode\n",
            "    chunks = self.iterencode(o, _one_shot=True)\n",
            "  File \"/usr/lib/python3.7/json/encoder.py\", line 257, in iterencode\n",
            "    return _iterencode(o, 0)\n",
            "  File \"/usr/lib/python3.7/json/encoder.py\", line 179, in default\n",
            "    raise TypeError(f'Object of type {o.__class__.__name__} '\n",
            "TypeError: Object of type bytes is not JSON serializable\n",
            "youtube-dl --quiet --no-warnings --no-check-certificate -f mp4 -o \"/tmp/kinetics/abafcf5c-06c9-4dae-8e94-76b7664a845a.%(ext)s\" \"https://www.youtube.com/watch?v=-ZigTNAJGn4\"\n",
            "youtube-dl --quiet --no-warnings --no-check-certificate -f mp4 -o \"/tmp/kinetics/a791ccaf-6b7c-4f59-86b8-9a49b91c3305.%(ext)s\" \"https://www.youtube.com/watch?v=-oUX_TK2d2Y\"\n",
            "youtube-dl --quiet --no-warnings --no-check-certificate -f mp4 -o \"/tmp/kinetics/955257e8-3a17-4128-b0a3-17ea1a6f038a.%(ext)s\" \"https://www.youtube.com/watch?v=0ZvqaBS7JM8\"\n",
            "youtube-dl --quiet --no-warnings --no-check-certificate -f mp4 -o \"/tmp/kinetics/01e8de11-a3ff-48c6-a64a-a685356b0741.%(ext)s\" \"https://www.youtube.com/watch?v=0_SYtoeA1ZU\"\n",
            "youtube-dl --quiet --no-warnings --no-check-certificate -f mp4 -o \"/tmp/kinetics/0821e369-6d15-42d8-af09-38a14e219c1c.%(ext)s\" \"https://www.youtube.com/watch?v=2cfogg910YM\"\n",
            "youtube-dl --quiet --no-warnings --no-check-certificate -f mp4 -o \"/tmp/kinetics/ebe64372-a08b-4dd2-997c-cf94b37e64b5.%(ext)s\" \"https://www.youtube.com/watch?v=BJth8mYpV0M\"\n",
            "youtube-dl --quiet --no-warnings --no-check-certificate -f mp4 -o \"/tmp/kinetics/b7fbf446-89b0-4004-b0b5-c975162996ad.%(ext)s\" \"https://www.youtube.com/watch?v=BLAGYbSHPJk\"\n",
            "youtube-dl --quiet --no-warnings --no-check-certificate -f mp4 -o \"/tmp/kinetics/ca47dbdd-eb95-40a9-ae27-06ee4e9badbb.%(ext)s\" \"https://www.youtube.com/watch?v=BOgcZhGNB4Y\"\n",
            "youtube-dl --quiet --no-warnings --no-check-certificate -f mp4 -o \"/tmp/kinetics/a74b9d62-9e13-41be-ad59-09c8b9a5ac27.%(ext)s\" \"https://www.youtube.com/watch?v=Bbp6YEb1TD4\"\n",
            "youtube-dl --quiet --no-warnings --no-check-certificate -f mp4 -o \"/tmp/kinetics/39350c60-3f8a-41be-adb5-e24574fb6bf4.%(ext)s\" \"https://www.youtube.com/watch?v=Be54bo4qPEg\"\n",
            "youtube-dl --quiet --no-warnings --no-check-certificate -f mp4 -o \"/tmp/kinetics/aa55a441-5a62-4d21-822c-d1717ddacd07.%(ext)s\" \"https://www.youtube.com/watch?v=CuFRQZZArC8\"\n",
            "youtube-dl --quiet --no-warnings --no-check-certificate -f mp4 -o \"/tmp/kinetics/47b91a87-3578-4c8b-b9ca-a17f613a0070.%(ext)s\" \"https://www.youtube.com/watch?v=CwLPpDSemRM\"\n",
            "youtube-dl --quiet --no-warnings --no-check-certificate -f mp4 -o \"/tmp/kinetics/173c8228-6753-43b6-b0c2-3ca26acb29ff.%(ext)s\" \"https://www.youtube.com/watch?v=D2mRZpNHl60\"\n",
            "youtube-dl --quiet --no-warnings --no-check-certificate -f mp4 -o \"/tmp/kinetics/dcba5f1f-ba3b-427c-bd31-899cd1999f7e.%(ext)s\" \"https://www.youtube.com/watch?v=D4lnf_6TX0s\"\n",
            "youtube-dl --quiet --no-warnings --no-check-certificate -f mp4 -o \"/tmp/kinetics/a8c2e99a-50a6-4c7e-89ef-5970cec6f0cd.%(ext)s\" \"https://www.youtube.com/watch?v=Db9nwSNl9nc\"\n",
            "Traceback (most recent call last):\n",
            "  File \"download.py\", line 228, in <module>\n",
            "    main(**vars(p.parse_args()))\n",
            "  File \"download.py\", line 202, in main\n",
            "    fobj.write(json.dumps(status_list))\n",
            "  File \"/usr/lib/python3.7/json/__init__.py\", line 231, in dumps\n",
            "    return _default_encoder.encode(obj)\n",
            "  File \"/usr/lib/python3.7/json/encoder.py\", line 199, in encode\n",
            "    chunks = self.iterencode(o, _one_shot=True)\n",
            "  File \"/usr/lib/python3.7/json/encoder.py\", line 257, in iterencode\n",
            "    return _iterencode(o, 0)\n",
            "  File \"/usr/lib/python3.7/json/encoder.py\", line 179, in default\n",
            "    raise TypeError(f'Object of type {o.__class__.__name__} '\n",
            "TypeError: Object of type bytes is not JSON serializable\n",
            "download_videos.sh: line 21: deactivate: No such file or directory\n",
            "download_videos.sh: line 22: conda: command not found\n",
            "We are processing kinetics700\n",
            "rename_classnames.sh: line 29: cd: ../../tools/data/kinetics700/: No such file or directory\n",
            "We are processing kinetics700\n",
            "Train filelist for video generated.\n",
            "Val filelist for video generated.\n",
            "generate_videos_filelist.sh: line 17: cd: tools/data/kinetics700/: No such file or directory\n"
          ],
          "name": "stdout"
        }
      ]
    },
    {
      "cell_type": "markdown",
      "metadata": {
        "id": "c8i85XM-yJCC"
      },
      "source": [
        "# Training and Testing"
      ]
    },
    {
      "cell_type": "code",
      "metadata": {
        "colab": {
          "base_uri": "https://localhost:8080/"
        },
        "id": "ADzqgCZjyLjy",
        "outputId": "3096a3d2-8bb8-44bd-c595-b13c55c1531e"
      },
      "source": [
        "dataset_name = 'kinetics700'\n",
        "dir_data = '/content/mmaction2/data/'+ dataset_name +'/'\n",
        "labels = [(l.replace(' ', '_')) for l in supported_labels]\n",
        "\n",
        "%cd /content/mmaction2/"
      ],
      "execution_count": 14,
      "outputs": [
        {
          "output_type": "stream",
          "text": [
            "/content/mmaction2\n"
          ],
          "name": "stdout"
        }
      ]
    },
    {
      "cell_type": "code",
      "metadata": {
        "id": "YBVduDfNiMb3"
      },
      "source": [
        "def create_config_from(config_path, checkpoint_path):\n",
        "  cfg = Config.fromfile(config_path)\n",
        "\n",
        "  # Modify the paths\n",
        "  cfg.dataset_type = 'VideoDataset'\n",
        "  cfg.data_root = dir_data + 'videos_train'\n",
        "  cfg.data_root_val = dir_data + 'videos_val'\n",
        "  cfg.ann_file_train = dir_data + dataset_name + '_train_list_videos.txt'\n",
        "  cfg.ann_file_val = dir_data + dataset_name  +'_val_list_videos.txt'\n",
        "  cfg.ann_file_test = dir_data + dataset_name + '_val_list_videos.txt'\n",
        "\n",
        "  cfg.data.test.type = 'VideoDataset'\n",
        "  cfg.data.test.ann_file = cfg.ann_file_test\n",
        "  cfg.data.test.data_prefix = cfg.data_root_val\n",
        "\n",
        "  cfg.data.val.type = 'VideoDataset'\n",
        "  cfg.data.val.ann_file = cfg.ann_file_val\n",
        "  cfg.data.val.data_prefix = cfg.data_root_val\n",
        "\n",
        "  cfg.data.train.type = 'VideoDataset'\n",
        "  cfg.data.train.ann_file = cfg.ann_file_train\n",
        "  cfg.data.train.data_prefix = cfg.data_root\n",
        "\n",
        "  cfg.setdefault('omnisource', False) # Whether it is omnisource training\n",
        "  cfg.model.cls_head.num_classes = len(labels)\n",
        "  cfg.load_from = checkpoint_path # Start the training with a pre-trained checkpoint, or None\n",
        "  cfg.work_dir = '/content/work_dir_'+ dataset_name\n",
        "  \n",
        "  # We use 1 GPU, instead of 8 by default\n",
        "  # We adjust the learning rate according to the Linear Scaling Rule\n",
        "  cfg.gpu_ids = range(1)\n",
        "  cfg.optimizer.lr /= 8\n",
        "\n",
        "  # Set a new batch size of 4\n",
        "  old_batch_size = cfg.data.videos_per_gpu\n",
        "  cfg.data.videos_per_gpu = 4\n",
        "  # We adjust the learning rate to the new batch size\n",
        "  cfg.optimizer.lr *= cfg.data.videos_per_gpu / old_batch_size\n",
        "  cfg.total_epochs = 10 #30\n",
        "\n",
        "  # We can set the checkpoint saving interval to reduce the storage cost\n",
        "  cfg.checkpoint_config.interval = 10\n",
        "  # We can set the log print interval to reduce the the times of printing log\n",
        "  cfg.log_config.interval = 5\n",
        "\n",
        "  # Set seed thus the results are more reproducible\n",
        "  cfg.seed = 0\n",
        "  set_random_seed(0, deterministic=False)\n",
        "  cfg.gpu_ids = range(1)\n",
        "  \n",
        "  return cfg \n",
        "\n",
        "def train(cfg):\n",
        "  datasets = [build_dataset(cfg.data.train)]\n",
        "\n",
        "  # https://github.com/open-mmlab/mmaction2/pull/629\n",
        "  # [Refactor] Config Refactor (train_cfg & test_cfg)\n",
        "  model = build_model(cfg.model, train_cfg=cfg.get('train_cfg'), test_cfg=cfg.get('test_cfg'))\n",
        "  mmcv.mkdir_or_exist(osp.abspath(cfg.work_dir))\n",
        "  train_model(model, datasets, cfg, distributed=False, validate=True)\n",
        "\n",
        "\n",
        "def test(cfg):\n",
        "    model = init_recognizer(cfg, cfg.load_from, device='cuda:0')\n",
        "    # Build a test dataloader\n",
        "    dataset = build_dataset(cfg.data.test, dict(test_mode=True))\n",
        "    data_loader = build_dataloader(\n",
        "            dataset,\n",
        "            videos_per_gpu=1,\n",
        "            workers_per_gpu=cfg.data.workers_per_gpu,\n",
        "            dist=False,\n",
        "            shuffle=False)\n",
        "    model = MMDataParallel(model, device_ids=[0])\n",
        "    outputs = single_gpu_test(model, data_loader)\n",
        "\n",
        "    eval_config = cfg.evaluation\n",
        "    if 'interval' in eval_config:\n",
        "        eval_config.pop('interval')\n",
        "    eval_res = dataset.evaluate(outputs, **eval_config)\n",
        "\n",
        "\n",
        "def train_and_test_model(model_name):\n",
        "  #get new config for model\n",
        "  config, checkpoint = get_config_and_chechpoint_model(model_name)\n",
        "\n",
        "  cfg = create_config_from(config, checkpoint)\n",
        "  # print(f'Config:\\n{cfg.pretty_text}')\n",
        "\n",
        "  train(cfg)\n",
        "\n",
        "  cfg.load_from = cfg.work_dir +'/'+ f'epoch_{cfg.total_epochs}.pth'\n",
        "\n",
        "  test(cfg)\n",
        "\n",
        "  cfg.dump(cfg.work_dir + '/config.py')\n"
      ],
      "execution_count": 15,
      "outputs": []
    },
    {
      "cell_type": "code",
      "metadata": {
        "colab": {
          "base_uri": "https://localhost:8080/"
        },
        "id": "uHUJvCNik4TY",
        "outputId": "dc3ecaad-1262-40b5-a174-b060dfcf37f7"
      },
      "source": [
        "# if failed checked that videos was correct : -> before to run : update /content/mmaction2/tools/data/kinetics/download.py set num-jobs to 1 to avoid error on video cut\n",
        "train_and_test_model(\"slowfast\")\n",
        "!mv /content/work_dir_kinetics700 /content/work_dir_kinetics700_slowfast"
      ],
      "execution_count": 16,
      "outputs": [
        {
          "output_type": "stream",
          "text": [
            "--2021-03-28 06:57:53--  https://download.openmmlab.com/mmaction/recognition/slowfast/slowfast_r50_video_4x16x1_256e_kinetics400_rgb/slowfast_r50_video_4x16x1_256e_kinetics400_rgb_20200826-f85b90c5.pth\n",
            "Resolving download.openmmlab.com (download.openmmlab.com)... 47.252.96.35\n",
            "Connecting to download.openmmlab.com (download.openmmlab.com)|47.252.96.35|:443... connected.\n",
            "HTTP request sent, awaiting response... 200 OK\n",
            "\n",
            "    The file is already fully retrieved; nothing to do.\n",
            "\n"
          ],
          "name": "stdout"
        },
        {
          "output_type": "stream",
          "text": [
            "2021-03-28 06:57:56,116 - mmaction - INFO - load checkpoint from checkpoints/slowfast_r50_video_4x16x1_256e_kinetics400_rgb_20200826-f85b90c5.pth\n",
            "2021-03-28 06:57:56,283 - mmaction - WARNING - The model and loaded state dict do not match exactly\n",
            "\n",
            "size mismatch for cls_head.fc_cls.weight: copying a param with shape torch.Size([400, 2304]) from checkpoint, the shape in current model is torch.Size([3, 2304]).\n",
            "size mismatch for cls_head.fc_cls.bias: copying a param with shape torch.Size([400]) from checkpoint, the shape in current model is torch.Size([3]).\n",
            "2021-03-28 06:57:56,292 - mmaction - INFO - Start running, host: root@275c845ecfbf, work_dir: /content/work_dir_kinetics700\n",
            "2021-03-28 06:57:56,293 - mmaction - INFO - workflow: [('train', 1)], max: 10 epochs\n",
            "/content/mmaction2/mmaction/core/evaluation/eval_hooks.py:131: UserWarning: runner.meta is None. Creating a empty one.\n",
            "  warnings.warn('runner.meta is None. Creating a empty one.')\n",
            "/usr/local/lib/python3.7/dist-packages/torch/nn/functional.py:3103: UserWarning: The default behavior for interpolate/upsample with float scale_factor changed in 1.6.0 to align with other frameworks/libraries, and now uses scale_factor directly, instead of relying on the computed output size. If you wish to restore the old behavior, please set recompute_scale_factor=True. See the documentation of nn.Upsample for details. \n",
            "  warnings.warn(\"The default behavior for interpolate/upsample with float scale_factor changed \"\n",
            "2021-03-28 06:58:08,572 - mmaction - INFO - Epoch [1][5/37]\tlr: 6.429e-04, eta: 0:14:55, time: 2.454, data_time: 1.323, memory: 4991, top1_acc: 0.4000, top5_acc: 1.0000, loss_cls: 1.1178, loss: 1.1178, grad_norm: 7.0348\n",
            "2021-03-28 06:58:16,939 - mmaction - INFO - Epoch [1][10/37]\tlr: 6.652e-04, eta: 0:12:22, time: 1.673, data_time: 0.593, memory: 4991, top1_acc: 0.4000, top5_acc: 1.0000, loss_cls: 1.0668, loss: 1.0668, grad_norm: 7.6039\n",
            "2021-03-28 06:58:22,403 - mmaction - INFO - Epoch [1][15/37]\tlr: 6.876e-04, eta: 0:10:17, time: 1.093, data_time: 0.004, memory: 4991, top1_acc: 0.7000, top5_acc: 1.0000, loss_cls: 0.9740, loss: 0.9740, grad_norm: 6.5533\n",
            "2021-03-28 06:58:27,699 - mmaction - INFO - Epoch [1][20/37]\tlr: 7.100e-04, eta: 0:09:09, time: 1.059, data_time: 0.005, memory: 4991, top1_acc: 0.5000, top5_acc: 1.0000, loss_cls: 1.0708, loss: 1.0708, grad_norm: 7.2789\n",
            "2021-03-28 06:58:33,012 - mmaction - INFO - Epoch [1][25/37]\tlr: 7.323e-04, eta: 0:08:26, time: 1.061, data_time: 0.003, memory: 4991, top1_acc: 0.6500, top5_acc: 1.0000, loss_cls: 0.9283, loss: 0.9283, grad_norm: 6.6578\n",
            "2021-03-28 06:58:38,422 - mmaction - INFO - Epoch [1][30/37]\tlr: 7.547e-04, eta: 0:07:57, time: 1.084, data_time: 0.003, memory: 4991, top1_acc: 0.8500, top5_acc: 1.0000, loss_cls: 0.9104, loss: 0.9104, grad_norm: 6.5323\n",
            "2021-03-28 06:58:43,375 - mmaction - INFO - Epoch [1][35/37]\tlr: 7.770e-04, eta: 0:07:30, time: 0.990, data_time: 0.001, memory: 4991, top1_acc: 0.6500, top5_acc: 1.0000, loss_cls: 0.8312, loss: 0.8312, grad_norm: 6.7916\n",
            "2021-03-28 06:59:00,395 - mmaction - INFO - Epoch [2][5/37]\tlr: 7.885e-04, eta: 0:08:05, time: 3.029, data_time: 1.942, memory: 4991, top1_acc: 0.9000, top5_acc: 1.0000, loss_cls: 0.6643, loss: 0.6643, grad_norm: 5.9418\n",
            "2021-03-28 06:59:05,725 - mmaction - INFO - Epoch [2][10/37]\tlr: 8.104e-04, eta: 0:07:44, time: 1.063, data_time: 0.001, memory: 4991, top1_acc: 0.8000, top5_acc: 1.0000, loss_cls: 0.6732, loss: 0.6732, grad_norm: 5.9298\n",
            "2021-03-28 06:59:11,104 - mmaction - INFO - Epoch [2][15/37]\tlr: 8.322e-04, eta: 0:07:25, time: 1.079, data_time: 0.007, memory: 4991, top1_acc: 0.8000, top5_acc: 1.0000, loss_cls: 0.6071, loss: 0.6071, grad_norm: 6.2581\n",
            "2021-03-28 06:59:16,633 - mmaction - INFO - Epoch [2][20/37]\tlr: 8.540e-04, eta: 0:07:10, time: 1.104, data_time: 0.004, memory: 4991, top1_acc: 0.8500, top5_acc: 1.0000, loss_cls: 0.5488, loss: 0.5488, grad_norm: 5.6474\n",
            "2021-03-28 06:59:21,944 - mmaction - INFO - Epoch [2][25/37]\tlr: 8.758e-04, eta: 0:06:56, time: 1.064, data_time: 0.006, memory: 4991, top1_acc: 0.8500, top5_acc: 1.0000, loss_cls: 0.5749, loss: 0.5749, grad_norm: 6.2874\n",
            "2021-03-28 06:59:27,248 - mmaction - INFO - Epoch [2][30/37]\tlr: 8.976e-04, eta: 0:06:42, time: 1.060, data_time: 0.003, memory: 4991, top1_acc: 0.9000, top5_acc: 1.0000, loss_cls: 0.5526, loss: 0.5526, grad_norm: 6.2906\n",
            "2021-03-28 06:59:32,176 - mmaction - INFO - Epoch [2][35/37]\tlr: 9.194e-04, eta: 0:06:29, time: 0.986, data_time: 0.001, memory: 4991, top1_acc: 0.9000, top5_acc: 1.0000, loss_cls: 0.5511, loss: 0.5511, grad_norm: 6.6398\n",
            "2021-03-28 06:59:44,810 - mmaction - INFO - Epoch [3][5/37]\tlr: 8.808e-04, eta: 0:06:25, time: 2.152, data_time: 1.023, memory: 4991, top1_acc: 0.9500, top5_acc: 1.0000, loss_cls: 0.3230, loss: 0.3230, grad_norm: 4.7975\n",
            "2021-03-28 06:59:50,293 - mmaction - INFO - Epoch [3][10/37]\tlr: 9.010e-04, eta: 0:06:15, time: 1.097, data_time: 0.005, memory: 4991, top1_acc: 0.8500, top5_acc: 1.0000, loss_cls: 0.5116, loss: 0.5116, grad_norm: 7.0444\n",
            "2021-03-28 06:59:55,892 - mmaction - INFO - Epoch [3][15/37]\tlr: 9.212e-04, eta: 0:06:05, time: 1.119, data_time: 0.008, memory: 4991, top1_acc: 0.9500, top5_acc: 1.0000, loss_cls: 0.3705, loss: 0.3705, grad_norm: 5.1966\n",
            "2021-03-28 07:00:02,219 - mmaction - INFO - Epoch [3][20/37]\tlr: 9.414e-04, eta: 0:05:58, time: 1.266, data_time: 0.170, memory: 4991, top1_acc: 0.9500, top5_acc: 1.0000, loss_cls: 0.2712, loss: 0.2712, grad_norm: 4.2755\n",
            "2021-03-28 07:00:08,041 - mmaction - INFO - Epoch [3][25/37]\tlr: 9.617e-04, eta: 0:05:50, time: 1.164, data_time: 0.094, memory: 4991, top1_acc: 0.9000, top5_acc: 1.0000, loss_cls: 0.3775, loss: 0.3775, grad_norm: 5.7669\n",
            "2021-03-28 07:00:13,344 - mmaction - INFO - Epoch [3][30/37]\tlr: 9.819e-04, eta: 0:05:40, time: 1.061, data_time: 0.002, memory: 4991, top1_acc: 0.8500, top5_acc: 1.0000, loss_cls: 0.4690, loss: 0.4690, grad_norm: 7.0640\n",
            "2021-03-28 07:00:18,297 - mmaction - INFO - Epoch [3][35/37]\tlr: 1.002e-03, eta: 0:05:31, time: 0.991, data_time: 0.001, memory: 4991, top1_acc: 0.8000, top5_acc: 1.0000, loss_cls: 0.3336, loss: 0.3336, grad_norm: 6.3944\n",
            "2021-03-28 07:00:32,863 - mmaction - INFO - Epoch [4][5/37]\tlr: 9.044e-04, eta: 0:05:30, time: 2.539, data_time: 1.471, memory: 4991, top1_acc: 0.9500, top5_acc: 1.0000, loss_cls: 0.2416, loss: 0.2416, grad_norm: 5.4493\n",
            "2021-03-28 07:00:38,168 - mmaction - INFO - Epoch [4][10/37]\tlr: 9.222e-04, eta: 0:05:21, time: 1.061, data_time: 0.004, memory: 4991, top1_acc: 0.9000, top5_acc: 1.0000, loss_cls: 0.3011, loss: 0.3011, grad_norm: 5.2233\n",
            "2021-03-28 07:00:43,676 - mmaction - INFO - Epoch [4][15/37]\tlr: 9.399e-04, eta: 0:05:13, time: 1.102, data_time: 0.008, memory: 4991, top1_acc: 0.9500, top5_acc: 1.0000, loss_cls: 0.2157, loss: 0.2157, grad_norm: 4.1248\n",
            "2021-03-28 07:00:51,208 - mmaction - INFO - Epoch [4][20/37]\tlr: 9.577e-04, eta: 0:05:08, time: 1.506, data_time: 0.380, memory: 4991, top1_acc: 0.9000, top5_acc: 1.0000, loss_cls: 0.2606, loss: 0.2606, grad_norm: 5.0879\n",
            "2021-03-28 07:00:56,633 - mmaction - INFO - Epoch [4][25/37]\tlr: 9.754e-04, eta: 0:05:00, time: 1.085, data_time: 0.003, memory: 4991, top1_acc: 0.9000, top5_acc: 1.0000, loss_cls: 0.3869, loss: 0.3869, grad_norm: 6.7626\n",
            "2021-03-28 07:01:02,059 - mmaction - INFO - Epoch [4][30/37]\tlr: 9.932e-04, eta: 0:04:52, time: 1.085, data_time: 0.002, memory: 4991, top1_acc: 0.7500, top5_acc: 1.0000, loss_cls: 0.4416, loss: 0.4416, grad_norm: 8.8778\n",
            "2021-03-28 07:01:07,006 - mmaction - INFO - Epoch [4][35/37]\tlr: 1.011e-03, eta: 0:04:43, time: 0.989, data_time: 0.001, memory: 4991, top1_acc: 0.8500, top5_acc: 1.0000, loss_cls: 0.2986, loss: 0.2986, grad_norm: 6.0017\n",
            "2021-03-28 07:01:21,266 - mmaction - INFO - Epoch [5][5/37]\tlr: 8.539e-04, eta: 0:04:40, time: 2.479, data_time: 1.390, memory: 4991, top1_acc: 0.9000, top5_acc: 1.0000, loss_cls: 0.2599, loss: 0.2599, grad_norm: 6.3794\n",
            "2021-03-28 07:01:26,644 - mmaction - INFO - Epoch [5][10/37]\tlr: 8.685e-04, eta: 0:04:32, time: 1.076, data_time: 0.003, memory: 4991, top1_acc: 0.9500, top5_acc: 1.0000, loss_cls: 0.2505, loss: 0.2505, grad_norm: 6.0769\n",
            "2021-03-28 07:01:32,126 - mmaction - INFO - Epoch [5][15/37]\tlr: 8.832e-04, eta: 0:04:24, time: 1.096, data_time: 0.007, memory: 4991, top1_acc: 1.0000, top5_acc: 1.0000, loss_cls: 0.2237, loss: 0.2237, grad_norm: 4.9808\n",
            "2021-03-28 07:01:39,981 - mmaction - INFO - Epoch [5][20/37]\tlr: 8.978e-04, eta: 0:04:19, time: 1.571, data_time: 0.493, memory: 4991, top1_acc: 0.9000, top5_acc: 1.0000, loss_cls: 0.1712, loss: 0.1712, grad_norm: 4.2040\n",
            "2021-03-28 07:01:45,378 - mmaction - INFO - Epoch [5][25/37]\tlr: 9.124e-04, eta: 0:04:12, time: 1.079, data_time: 0.004, memory: 4991, top1_acc: 0.8000, top5_acc: 1.0000, loss_cls: 0.3476, loss: 0.3476, grad_norm: 6.9564\n",
            "2021-03-28 07:01:50,867 - mmaction - INFO - Epoch [5][30/37]\tlr: 9.271e-04, eta: 0:04:04, time: 1.098, data_time: 0.004, memory: 4991, top1_acc: 0.8500, top5_acc: 1.0000, loss_cls: 0.3759, loss: 0.3759, grad_norm: 8.8841\n",
            "2021-03-28 07:01:55,817 - mmaction - INFO - Epoch [5][35/37]\tlr: 9.417e-04, eta: 0:03:57, time: 0.990, data_time: 0.002, memory: 4991, top1_acc: 1.0000, top5_acc: 1.0000, loss_cls: 0.1074, loss: 0.1074, grad_norm: 3.2232\n"
          ],
          "name": "stderr"
        },
        {
          "output_type": "stream",
          "text": [
            "[>>>>>>>>>>>>>>>>>>>>>>>>>>>>>>>>>] 14/14, 4.1 task/s, elapsed: 3s, ETA:     0s"
          ],
          "name": "stdout"
        },
        {
          "output_type": "stream",
          "text": [
            "2021-03-28 07:02:01,246 - mmaction - INFO - Evaluating top_k_accuracy ...\n",
            "2021-03-28 07:02:01,248 - mmaction - INFO - \n",
            "top1_acc\t0.7857\n",
            "top5_acc\t1.0000\n",
            "2021-03-28 07:02:01,249 - mmaction - INFO - Evaluating mean_class_accuracy ...\n",
            "2021-03-28 07:02:01,257 - mmaction - INFO - \n",
            "mean_acc\t0.7667\n",
            "2021-03-28 07:02:02,225 - mmaction - INFO - Now best checkpoint is saved as best_top1_acc_epoch_5.pth.\n",
            "2021-03-28 07:02:02,227 - mmaction - INFO - Best top1_acc is 0.7857 at 5 epoch.\n",
            "2021-03-28 07:02:02,231 - mmaction - INFO - Epoch(val) [5][37]\ttop1_acc: 0.7857, top5_acc: 1.0000, mean_class_accuracy: 0.7667\n",
            "2021-03-28 07:02:13,555 - mmaction - INFO - Epoch [6][5/37]\tlr: 7.350e-04, eta: 0:03:50, time: 2.263, data_time: 1.130, memory: 4991, top1_acc: 0.9000, top5_acc: 1.0000, loss_cls: 0.3265, loss: 0.3265, grad_norm: 6.9516\n",
            "2021-03-28 07:02:19,988 - mmaction - INFO - Epoch [6][10/37]\tlr: 7.462e-04, eta: 0:03:44, time: 1.287, data_time: 0.213, memory: 4991, top1_acc: 0.9500, top5_acc: 1.0000, loss_cls: 0.3459, loss: 0.3459, grad_norm: 9.0857\n",
            "2021-03-28 07:02:25,398 - mmaction - INFO - Epoch [6][15/37]\tlr: 7.574e-04, eta: 0:03:36, time: 1.082, data_time: 0.003, memory: 4991, top1_acc: 0.9000, top5_acc: 1.0000, loss_cls: 0.3803, loss: 0.3803, grad_norm: 6.0688\n",
            "2021-03-28 07:02:30,882 - mmaction - INFO - Epoch [6][20/37]\tlr: 7.686e-04, eta: 0:03:29, time: 1.097, data_time: 0.004, memory: 4991, top1_acc: 0.8500, top5_acc: 1.0000, loss_cls: 0.3931, loss: 0.3931, grad_norm: 9.6292\n",
            "2021-03-28 07:02:37,244 - mmaction - INFO - Epoch [6][25/37]\tlr: 7.798e-04, eta: 0:03:23, time: 1.272, data_time: 0.181, memory: 4991, top1_acc: 0.8500, top5_acc: 1.0000, loss_cls: 0.3297, loss: 0.3297, grad_norm: 6.9926\n",
            "2021-03-28 07:02:42,627 - mmaction - INFO - Epoch [6][30/37]\tlr: 7.909e-04, eta: 0:03:16, time: 1.077, data_time: 0.003, memory: 4991, top1_acc: 0.9000, top5_acc: 1.0000, loss_cls: 0.4250, loss: 0.4250, grad_norm: 6.1688\n",
            "2021-03-28 07:02:47,550 - mmaction - INFO - Epoch [6][35/37]\tlr: 8.021e-04, eta: 0:03:09, time: 0.985, data_time: 0.002, memory: 4991, top1_acc: 0.8500, top5_acc: 1.0000, loss_cls: 0.4107, loss: 0.4107, grad_norm: 9.5517\n",
            "2021-03-28 07:03:01,507 - mmaction - INFO - Epoch [7][5/37]\tlr: 5.651e-04, eta: 0:03:02, time: 2.419, data_time: 1.359, memory: 4991, top1_acc: 0.9500, top5_acc: 1.0000, loss_cls: 0.1491, loss: 0.1491, grad_norm: 4.3591\n",
            "2021-03-28 07:03:06,947 - mmaction - INFO - Epoch [7][10/37]\tlr: 5.728e-04, eta: 0:02:55, time: 1.088, data_time: 0.043, memory: 4991, top1_acc: 1.0000, top5_acc: 1.0000, loss_cls: 0.1511, loss: 0.1511, grad_norm: 4.1325\n",
            "2021-03-28 07:03:12,295 - mmaction - INFO - Epoch [7][15/37]\tlr: 5.805e-04, eta: 0:02:48, time: 1.070, data_time: 0.003, memory: 4991, top1_acc: 0.9500, top5_acc: 1.0000, loss_cls: 0.2141, loss: 0.2141, grad_norm: 4.6295\n",
            "2021-03-28 07:03:18,352 - mmaction - INFO - Epoch [7][20/37]\tlr: 5.882e-04, eta: 0:02:41, time: 1.211, data_time: 0.141, memory: 4991, top1_acc: 0.9000, top5_acc: 1.0000, loss_cls: 0.3720, loss: 0.3720, grad_norm: 8.5549\n",
            "2021-03-28 07:03:26,248 - mmaction - INFO - Epoch [7][25/37]\tlr: 5.960e-04, eta: 0:02:36, time: 1.580, data_time: 0.467, memory: 4991, top1_acc: 1.0000, top5_acc: 1.0000, loss_cls: 0.1374, loss: 0.1374, grad_norm: 4.8680\n",
            "2021-03-28 07:03:31,576 - mmaction - INFO - Epoch [7][30/37]\tlr: 6.037e-04, eta: 0:02:29, time: 1.066, data_time: 0.004, memory: 4991, top1_acc: 0.9500, top5_acc: 1.0000, loss_cls: 0.1885, loss: 0.1885, grad_norm: 5.9272\n",
            "2021-03-28 07:03:36,494 - mmaction - INFO - Epoch [7][35/37]\tlr: 6.114e-04, eta: 0:02:22, time: 0.984, data_time: 0.001, memory: 4991, top1_acc: 0.9500, top5_acc: 1.0000, loss_cls: 0.1648, loss: 0.1648, grad_norm: 4.8169\n",
            "2021-03-28 07:03:52,230 - mmaction - INFO - Epoch [8][5/37]\tlr: 3.712e-04, eta: 0:02:15, time: 2.775, data_time: 1.677, memory: 4991, top1_acc: 1.0000, top5_acc: 1.0000, loss_cls: 0.0841, loss: 0.0841, grad_norm: 2.2968\n",
            "2021-03-28 07:03:57,661 - mmaction - INFO - Epoch [8][10/37]\tlr: 3.758e-04, eta: 0:02:09, time: 1.086, data_time: 0.007, memory: 4991, top1_acc: 0.9500, top5_acc: 1.0000, loss_cls: 0.1907, loss: 0.1907, grad_norm: 5.9848\n",
            "2021-03-28 07:04:03,247 - mmaction - INFO - Epoch [8][15/37]\tlr: 3.804e-04, eta: 0:02:02, time: 1.117, data_time: 0.004, memory: 4991, top1_acc: 1.0000, top5_acc: 1.0000, loss_cls: 0.1047, loss: 0.1047, grad_norm: 2.9689\n",
            "2021-03-28 07:04:08,582 - mmaction - INFO - Epoch [8][20/37]\tlr: 3.850e-04, eta: 0:01:55, time: 1.067, data_time: 0.003, memory: 4991, top1_acc: 0.8500, top5_acc: 1.0000, loss_cls: 0.3245, loss: 0.3245, grad_norm: 9.7851\n",
            "2021-03-28 07:04:13,963 - mmaction - INFO - Epoch [8][25/37]\tlr: 3.896e-04, eta: 0:01:49, time: 1.076, data_time: 0.003, memory: 4991, top1_acc: 0.9000, top5_acc: 1.0000, loss_cls: 0.2724, loss: 0.2724, grad_norm: 4.9788\n",
            "2021-03-28 07:04:19,468 - mmaction - INFO - Epoch [8][30/37]\tlr: 3.942e-04, eta: 0:01:42, time: 1.101, data_time: 0.003, memory: 4991, top1_acc: 0.9000, top5_acc: 1.0000, loss_cls: 0.2673, loss: 0.2673, grad_norm: 10.4407\n",
            "2021-03-28 07:04:24,450 - mmaction - INFO - Epoch [8][35/37]\tlr: 3.988e-04, eta: 0:01:35, time: 0.996, data_time: 0.002, memory: 4991, top1_acc: 0.9500, top5_acc: 1.0000, loss_cls: 0.2477, loss: 0.2477, grad_norm: 7.5477\n",
            "2021-03-28 07:04:40,549 - mmaction - INFO - Epoch [9][5/37]\tlr: 1.878e-04, eta: 0:01:28, time: 2.849, data_time: 1.737, memory: 4991, top1_acc: 0.9500, top5_acc: 1.0000, loss_cls: 0.2040, loss: 0.2040, grad_norm: 6.5646\n",
            "2021-03-28 07:04:46,064 - mmaction - INFO - Epoch [9][10/37]\tlr: 1.899e-04, eta: 0:01:21, time: 1.103, data_time: 0.014, memory: 4991, top1_acc: 1.0000, top5_acc: 1.0000, loss_cls: 0.1022, loss: 0.1022, grad_norm: 3.7075\n",
            "2021-03-28 07:04:52,040 - mmaction - INFO - Epoch [9][15/37]\tlr: 1.920e-04, eta: 0:01:15, time: 1.195, data_time: 0.100, memory: 4991, top1_acc: 0.9500, top5_acc: 1.0000, loss_cls: 0.2221, loss: 0.2221, grad_norm: 6.1501\n",
            "2021-03-28 07:04:57,496 - mmaction - INFO - Epoch [9][20/37]\tlr: 1.942e-04, eta: 0:01:08, time: 1.090, data_time: 0.007, memory: 4991, top1_acc: 0.9000, top5_acc: 1.0000, loss_cls: 0.2861, loss: 0.2861, grad_norm: 5.4800\n",
            "2021-03-28 07:05:02,901 - mmaction - INFO - Epoch [9][25/37]\tlr: 1.963e-04, eta: 0:01:02, time: 1.082, data_time: 0.003, memory: 4991, top1_acc: 0.9000, top5_acc: 1.0000, loss_cls: 0.2086, loss: 0.2086, grad_norm: 4.7977\n",
            "2021-03-28 07:05:08,383 - mmaction - INFO - Epoch [9][30/37]\tlr: 1.985e-04, eta: 0:00:55, time: 1.097, data_time: 0.006, memory: 4991, top1_acc: 0.9000, top5_acc: 1.0000, loss_cls: 0.2288, loss: 0.2288, grad_norm: 6.8836\n",
            "2021-03-28 07:05:13,330 - mmaction - INFO - Epoch [9][35/37]\tlr: 2.006e-04, eta: 0:00:49, time: 0.990, data_time: 0.001, memory: 4991, top1_acc: 1.0000, top5_acc: 1.0000, loss_cls: 0.1240, loss: 0.1240, grad_norm: 3.8769\n",
            "2021-03-28 07:05:26,162 - mmaction - INFO - Epoch [10][5/37]\tlr: 5.217e-05, eta: 0:00:40, time: 2.196, data_time: 1.099, memory: 4991, top1_acc: 0.9000, top5_acc: 1.0000, loss_cls: 0.2143, loss: 0.2143, grad_norm: 7.0028\n",
            "2021-03-28 07:05:33,580 - mmaction - INFO - Epoch [10][10/37]\tlr: 5.272e-05, eta: 0:00:34, time: 1.484, data_time: 0.383, memory: 4991, top1_acc: 0.8500, top5_acc: 1.0000, loss_cls: 0.4128, loss: 0.4128, grad_norm: 9.7179\n",
            "2021-03-28 07:05:39,886 - mmaction - INFO - Epoch [10][15/37]\tlr: 5.326e-05, eta: 0:00:27, time: 1.261, data_time: 0.200, memory: 4991, top1_acc: 0.9500, top5_acc: 1.0000, loss_cls: 0.0875, loss: 0.0875, grad_norm: 3.2582\n",
            "2021-03-28 07:05:45,299 - mmaction - INFO - Epoch [10][20/37]\tlr: 5.381e-05, eta: 0:00:21, time: 1.077, data_time: 0.005, memory: 4991, top1_acc: 0.9000, top5_acc: 1.0000, loss_cls: 0.2809, loss: 0.2809, grad_norm: 6.9850\n",
            "2021-03-28 07:05:50,571 - mmaction - INFO - Epoch [10][25/37]\tlr: 5.436e-05, eta: 0:00:15, time: 1.060, data_time: 0.006, memory: 4991, top1_acc: 0.9500, top5_acc: 1.0000, loss_cls: 0.1225, loss: 0.1225, grad_norm: 4.5530\n",
            "2021-03-28 07:05:55,876 - mmaction - INFO - Epoch [10][30/37]\tlr: 5.491e-05, eta: 0:00:08, time: 1.061, data_time: 0.002, memory: 4991, top1_acc: 1.0000, top5_acc: 1.0000, loss_cls: 0.0858, loss: 0.0858, grad_norm: 2.5884\n",
            "2021-03-28 07:06:00,859 - mmaction - INFO - Epoch [10][35/37]\tlr: 5.545e-05, eta: 0:00:02, time: 0.996, data_time: 0.002, memory: 4991, top1_acc: 0.9000, top5_acc: 1.0000, loss_cls: 0.1684, loss: 0.1684, grad_norm: 5.2319\n",
            "2021-03-28 07:06:02,711 - mmaction - INFO - Saving checkpoint at 10 epochs\n"
          ],
          "name": "stderr"
        },
        {
          "output_type": "stream",
          "text": [
            "[>>>>>>>>>>>>>>>>>>>>>>>>>>>>>>>>>] 14/14, 4.0 task/s, elapsed: 4s, ETA:     0s"
          ],
          "name": "stdout"
        },
        {
          "output_type": "stream",
          "text": [
            "2021-03-28 07:06:07,386 - mmaction - INFO - Evaluating top_k_accuracy ...\n",
            "2021-03-28 07:06:07,388 - mmaction - INFO - \n",
            "top1_acc\t0.7857\n",
            "top5_acc\t1.0000\n",
            "2021-03-28 07:06:07,390 - mmaction - INFO - Evaluating mean_class_accuracy ...\n",
            "2021-03-28 07:06:07,394 - mmaction - INFO - \n",
            "mean_acc\t0.7667\n",
            "2021-03-28 07:06:07,397 - mmaction - INFO - Epoch(val) [10][37]\ttop1_acc: 0.7857, top5_acc: 1.0000, mean_class_accuracy: 0.7667\n"
          ],
          "name": "stderr"
        },
        {
          "output_type": "stream",
          "text": [
            "[>>>>>>>>>>>>>>>>>>>>>>>>>>>>>>>>] 14/14, 0.4 task/s, elapsed: 37s, ETA:     0s\n",
            "Evaluating top_k_accuracy ...\n",
            "\n",
            "top1_acc\t0.6429\n",
            "top5_acc\t1.0000\n",
            "\n",
            "Evaluating mean_class_accuracy ...\n",
            "\n",
            "mean_acc\t0.6167\n"
          ],
          "name": "stdout"
        }
      ]
    },
    {
      "cell_type": "code",
      "metadata": {
        "id": "qkwyUpK-LdEL"
      },
      "source": [
        "# train other models\n",
        "train_and_test_model(\"tsn\")\n",
        "!mv /content/work_dir_kinetics700 /content/work_dir_kinetics700_tsn\n",
        "train_and_test_model(\"i3d\")\n",
        "!mv /content/work_dir_kinetics700 /content/work_dir_kinetics700_i3d\n",
        "train_and_test_model(\"tsm\")\n",
        "!mv /content/work_dir_kinetics700 /content/work_dir_kinetics700_tsm"
      ],
      "execution_count": null,
      "outputs": []
    },
    {
      "cell_type": "code",
      "metadata": {
        "colab": {
          "base_uri": "https://localhost:8080/"
        },
        "id": "ijhgB6Uyd083",
        "outputId": "480e9cdb-26a5-43bd-a01f-c13005458935"
      },
      "source": [
        "!mkdir my\n",
        "\n",
        "def run_on_my_video():\n",
        "  # Initialize the recognizer\n",
        "  model = init_recognizer('/content/work_dir_kinetics700/config.py', '/content/work_dir_kinetics700/best_top1_acc_epoch_5.pth', device='cuda:0')\n",
        "\n",
        "  # Use the recognizer to do inference\n",
        "  video = 'my/Chute.mp4'\n",
        "  label = 'my/label.txt'\n",
        "  results = inference_recognizer(model, video, label)\n",
        "\n",
        "  # Let's show the results\n",
        "  for result in results:\n",
        "      print(f'{result[0]}: ', result[1])\n",
        "\n",
        "run_on_my_video()"
      ],
      "execution_count": null,
      "outputs": [
        {
          "output_type": "stream",
          "text": [
            "/usr/local/lib/python3.7/dist-packages/torch/nn/functional.py:3103: UserWarning: The default behavior for interpolate/upsample with float scale_factor changed in 1.6.0 to align with other frameworks/libraries, and now uses scale_factor directly, instead of relying on the computed output size. If you wish to restore the old behavior, please set recompute_scale_factor=True. See the documentation of nn.Upsample for details. \n",
            "  warnings.warn(\"The default behavior for interpolate/upsample with float scale_factor changed \"\n"
          ],
          "name": "stderr"
        },
        {
          "output_type": "stream",
          "text": [
            "falling off chair:  0.9314812\n",
            "yawning:  0.03575415\n",
            "wrestling:  0.03276478\n"
          ],
          "name": "stdout"
        }
      ]
    }
  ]
}