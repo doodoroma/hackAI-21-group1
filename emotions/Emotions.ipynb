{
 "cells": [
  {
   "cell_type": "code",
   "execution_count": 1,
   "metadata": {},
   "outputs": [
    {
     "name": "stdout",
     "output_type": "stream",
     "text": [
      "the keras version is : 2.4.3 (important to load model from h5 file)\n"
     ]
    }
   ],
   "source": [
    "import os\n",
    "import keras\n",
    "\n",
    "from keras.preprocessing import image\n",
    "from keras_preprocessing.image import ImageDataGenerator\n",
    "from keras.callbacks import EarlyStopping, ModelCheckpoint, ReduceLROnPlateau\n",
    "from keras.applications.mobilenet_v2 import MobileNetV2, preprocess_input #224*224\n",
    "from keras import Model, optimizers, models, layers, Input\n",
    "from keras.models import Sequential\n",
    "from keras.utils import to_categorical\n",
    "from keras.layers import Dense, Dropout, Activation, Flatten, Conv2D, MaxPooling2D, GlobalAveragePooling2D, BatchNormalization\n",
    "print(f\"the keras version is : {keras.__version__} (important to load model from h5 file)\")"
   ]
  },
  {
   "cell_type": "code",
   "execution_count": 2,
   "metadata": {},
   "outputs": [
    {
     "name": "stdout",
     "output_type": "stream",
     "text": [
      "train dataset\n",
      "\t3995 angry images\n",
      "\t436 disgust images\n",
      "\t4097 fear images\n",
      "\t7214 happy images\n",
      "\t4965 neutral images\n",
      "\t4830 sad images\n",
      "\t3171 surprise images\n",
      "\n",
      "\n",
      "valid dataset\n",
      "\t958 angry images\n",
      "\t111 disgust images\n",
      "\t1024 fear images\n",
      "\t1774 happy images\n",
      "\t1233 neutral images\n",
      "\t1247 sad images\n",
      "\t831 surprise images\n",
      "\n",
      "\n",
      "Found 28708 images belonging to 7 classes.\n",
      "Found 7178 images belonging to 7 classes.\n"
     ]
    }
   ],
   "source": [
    "################################################\n",
    "# DATASET\n",
    "################################################\n",
    "\n",
    "data_folder = \"d:/work/emotions\"\n",
    "\n",
    "def analyze_dataset(subfolder):\n",
    "    print(f\"{subfolder} dataset\")\n",
    "    full_folder_path = data_folder +\"/\"+ subfolder +\"/\"\n",
    "    for expression in os.listdir(full_folder_path):\n",
    "        print(\"\\t\" + str(len(os.listdir(full_folder_path + expression))) + \" \" + expression + \" images\")\n",
    "    print(\"\\n\")\n",
    "    return full_folder_path\n",
    "\n",
    "train_folder = analyze_dataset(\"train\")\n",
    "valid_folder = analyze_dataset(\"valid\")\n",
    "\n",
    "###################################\n",
    "# \n",
    "img_shape = (48, 48)\n",
    "batch_size = 64\n",
    "\n",
    "train_img_generator = ImageDataGenerator(horizontal_flip=True)\n",
    "valid_img_generator = ImageDataGenerator(horizontal_flip=True)\n",
    "\n",
    "train_generator = train_img_generator.flow_from_directory(train_folder,\n",
    "                                                    target_size=img_shape,\n",
    "                                                    color_mode=\"grayscale\",\n",
    "                                                    batch_size=batch_size,\n",
    "                                                    class_mode='categorical',\n",
    "                                                    shuffle=True)\n",
    "\n",
    "\n",
    "valid_generator = valid_img_generator.flow_from_directory(valid_folder,\n",
    "                                                    target_size=img_shape,\n",
    "                                                    color_mode=\"grayscale\",\n",
    "                                                    batch_size=batch_size,\n",
    "                                                    class_mode='categorical',\n",
    "                                                    shuffle=False)\n"
   ]
  },
  {
   "cell_type": "code",
   "execution_count": 3,
   "metadata": {},
   "outputs": [
    {
     "name": "stdout",
     "output_type": "stream",
     "text": [
      "Model: \"sequential\"\n",
      "_________________________________________________________________\n",
      "Layer (type)                 Output Shape              Param #   \n",
      "=================================================================\n",
      "conv2d (Conv2D)              (None, 48, 48, 64)        640       \n",
      "_________________________________________________________________\n",
      "batch_normalization (BatchNo (None, 48, 48, 64)        256       \n",
      "_________________________________________________________________\n",
      "activation (Activation)      (None, 48, 48, 64)        0         \n",
      "_________________________________________________________________\n",
      "max_pooling2d (MaxPooling2D) (None, 24, 24, 64)        0         \n",
      "_________________________________________________________________\n",
      "dropout (Dropout)            (None, 24, 24, 64)        0         \n",
      "_________________________________________________________________\n",
      "conv2d_1 (Conv2D)            (None, 24, 24, 128)       204928    \n",
      "_________________________________________________________________\n",
      "batch_normalization_1 (Batch (None, 24, 24, 128)       512       \n",
      "_________________________________________________________________\n",
      "activation_1 (Activation)    (None, 24, 24, 128)       0         \n",
      "_________________________________________________________________\n",
      "max_pooling2d_1 (MaxPooling2 (None, 12, 12, 128)       0         \n",
      "_________________________________________________________________\n",
      "dropout_1 (Dropout)          (None, 12, 12, 128)       0         \n",
      "_________________________________________________________________\n",
      "conv2d_2 (Conv2D)            (None, 12, 12, 256)       295168    \n",
      "_________________________________________________________________\n",
      "batch_normalization_2 (Batch (None, 12, 12, 256)       1024      \n",
      "_________________________________________________________________\n",
      "activation_2 (Activation)    (None, 12, 12, 256)       0         \n",
      "_________________________________________________________________\n",
      "max_pooling2d_2 (MaxPooling2 (None, 6, 6, 256)         0         \n",
      "_________________________________________________________________\n",
      "dropout_2 (Dropout)          (None, 6, 6, 256)         0         \n",
      "_________________________________________________________________\n",
      "conv2d_3 (Conv2D)            (None, 6, 6, 512)         1180160   \n",
      "_________________________________________________________________\n",
      "batch_normalization_3 (Batch (None, 6, 6, 512)         2048      \n",
      "_________________________________________________________________\n",
      "activation_3 (Activation)    (None, 6, 6, 512)         0         \n",
      "_________________________________________________________________\n",
      "max_pooling2d_3 (MaxPooling2 (None, 3, 3, 512)         0         \n",
      "_________________________________________________________________\n",
      "dropout_3 (Dropout)          (None, 3, 3, 512)         0         \n",
      "_________________________________________________________________\n",
      "flatten (Flatten)            (None, 4608)              0         \n",
      "_________________________________________________________________\n",
      "dense (Dense)                (None, 256)               1179904   \n",
      "_________________________________________________________________\n",
      "batch_normalization_4 (Batch (None, 256)               1024      \n",
      "_________________________________________________________________\n",
      "activation_4 (Activation)    (None, 256)               0         \n",
      "_________________________________________________________________\n",
      "dropout_4 (Dropout)          (None, 256)               0         \n",
      "_________________________________________________________________\n",
      "dense_1 (Dense)              (None, 512)               131584    \n",
      "_________________________________________________________________\n",
      "batch_normalization_5 (Batch (None, 512)               2048      \n",
      "_________________________________________________________________\n",
      "activation_5 (Activation)    (None, 512)               0         \n",
      "_________________________________________________________________\n",
      "dropout_5 (Dropout)          (None, 512)               0         \n",
      "_________________________________________________________________\n",
      "dense_2 (Dense)              (None, 7)                 3591      \n",
      "=================================================================\n",
      "Total params: 3,002,887\n",
      "Trainable params: 2,999,431\n",
      "Non-trainable params: 3,456\n",
      "_________________________________________________________________\n"
     ]
    }
   ],
   "source": [
    "def get_model():\n",
    "    mdl = Sequential()\n",
    "\n",
    "    mdl.add(Conv2D(64,(3,3), padding='same', input_shape=(48, 48,1)))\n",
    "    mdl.add(BatchNormalization())\n",
    "    mdl.add(Activation('relu'))\n",
    "    mdl.add(MaxPooling2D(pool_size=(2, 2)))\n",
    "    mdl.add(Dropout(0.25))\n",
    "\n",
    "    mdl.add(Conv2D(128,(5,5), padding='same'))\n",
    "    mdl.add(BatchNormalization())\n",
    "    mdl.add(Activation('relu'))\n",
    "    mdl.add(MaxPooling2D(pool_size=(2, 2)))\n",
    "    mdl.add(Dropout(0.25))\n",
    "\n",
    "    mdl.add(Conv2D(256,(3,3), padding='same'))\n",
    "    mdl.add(BatchNormalization())\n",
    "    mdl.add(Activation('relu'))\n",
    "    mdl.add(MaxPooling2D(pool_size=(2, 2)))\n",
    "    mdl.add(Dropout(0.25))\n",
    "\n",
    "    mdl.add(Conv2D(512,(3,3), padding='same'))\n",
    "    mdl.add(BatchNormalization())\n",
    "    mdl.add(Activation('relu'))\n",
    "    mdl.add(MaxPooling2D(pool_size=(2, 2)))\n",
    "    mdl.add(Dropout(0.25))\n",
    "\n",
    "    mdl.add(Flatten())\n",
    "\n",
    "    mdl.add(Dense(256))\n",
    "    mdl.add(BatchNormalization())\n",
    "    mdl.add(Activation('relu'))\n",
    "    mdl.add(Dropout(0.25))\n",
    "\n",
    "    mdl.add(Dense(512))\n",
    "    mdl.add(BatchNormalization())\n",
    "    mdl.add(Activation('relu'))\n",
    "    mdl.add(Dropout(0.25))\n",
    "\n",
    "    mdl.add(Dense(7, activation='softmax'))\n",
    "\n",
    "    opt = optimizers.Adam(lr=0.0005)\n",
    "    mdl.compile(optimizer=opt, loss='categorical_crossentropy', metrics=['accuracy'])\n",
    "    return mdl\n",
    "\n",
    "model = get_model()\n",
    "model.summary()"
   ]
  },
  {
   "cell_type": "code",
   "execution_count": 5,
   "metadata": {},
   "outputs": [
    {
     "name": "stdout",
     "output_type": "stream",
     "text": [
      "Epoch 1/2\n",
      "448/448 [==============================] - 572s 1s/step - loss: 1.6542 - accuracy: 0.3622 - val_loss: 1.6039 - val_accuracy: 0.3856\n",
      "Epoch 2/2\n",
      "448/448 [==============================] - 568s 1s/step - loss: 1.4314 - accuracy: 0.4516 - val_loss: 1.3555 - val_accuracy: 0.4760\n"
     ]
    }
   ],
   "source": [
    "epochs = 15\n",
    "train_steps = train_generator.n // train_generator.batch_size\n",
    "valid_steps = valid_generator.n // valid_generator.batch_size\n",
    "\n",
    "reduce_lr = ReduceLROnPlateau(monitor='val_loss', factor=0.1,\n",
    "                              patience=2, min_lr=0.00001, mode='auto')\n",
    "\n",
    "callbacks = [reduce_lr]\n",
    "\n",
    "history = model.fit(\n",
    "    x=train_generator,\n",
    "    steps_per_epoch=train_steps,\n",
    "    epochs=epochs,\n",
    "    validation_data = valid_generator,\n",
    "    validation_steps = valid_steps,\n",
    "    callbacks=callbacks\n",
    ")"
   ]
  },
  {
   "cell_type": "code",
   "execution_count": 6,
   "metadata": {},
   "outputs": [
    {
     "name": "stdout",
     "output_type": "stream",
     "text": [
      "dict_keys(['loss', 'accuracy', 'val_loss', 'val_accuracy', 'lr'])\n"
     ]
    },
    {
     "data": {
      "image/png": "[encoded data removed]",
      "text/plain": [
       "<Figure size 800x800 with 2 Axes>"
      ]
     },
     "metadata": {},
     "output_type": "display_data"
    }
   ],
   "source": [
    "import matplotlib.pyplot as plt\n",
    "\n",
    "def plot_history(history):\n",
    "    # list all data in history\n",
    "    print(history.history.keys())\n",
    "\n",
    "    fig = plt.figure(figsize=(8, 8), dpi=100, facecolor='w', edgecolor='k')\n",
    "    plt.subplot(2, 1, 1)\n",
    "    # summarize history for accuracy\n",
    "    plt.plot(history.history['accuracy'])\n",
    "    plt.plot(history.history['val_accuracy'])\n",
    "    plt.title('model accuracy')\n",
    "    plt.ylabel('accuracy')\n",
    "    plt.xlabel('epoch')\n",
    "    plt.legend(['train', 'test'], loc='upper left')\n",
    "\n",
    "    plt.subplot(2, 1, 2)\n",
    "    # summarize history for loss\n",
    "    plt.plot(history.history['loss'])\n",
    "    plt.plot(history.history['val_loss'])\n",
    "    plt.title('model loss')\n",
    "    plt.ylabel('loss')\n",
    "    plt.xlabel('epoch')\n",
    "    plt.legend(['train', 'test'], loc='upper left')\n",
    "    fig.tight_layout()\n",
    "    plt.show()\n",
    "    \n",
    "plot_history(history)"
   ]
  },
  {
   "cell_type": "code",
   "execution_count": 8,
   "metadata": {},
   "outputs": [
    {
     "name": "stdout",
     "output_type": "stream",
     "text": [
      "INFO:tensorflow:Assets written to: C:\\Users\\ffer\\AppData\\Local\\Temp\\tmprk4frdca\\assets\n"
     ]
    },
    {
     "name": "stderr",
     "output_type": "stream",
     "text": [
      "INFO:tensorflow:Assets written to: C:\\Users\\ffer\\AppData\\Local\\Temp\\tmprk4frdca\\assets\n"
     ]
    }
   ],
   "source": [
    "import tensorflow as tf\n",
    "\n",
    "# save h5\n",
    "model.save(\"model.h5\")\n",
    "\n",
    "# Convert the model.\n",
    "converter = tf.lite.TFLiteConverter.from_keras_model(model)\n",
    "tflite_model = converter.convert()\n",
    "\n",
    "# Save the model.\n",
    "with open('model.tflite', 'wb') as f:\n",
    "    f.write(tflite_model)"
   ]
  },
  {
   "cell_type": "code",
   "execution_count": 14,
   "metadata": {},
   "outputs": [
    {
     "name": "stdout",
     "output_type": "stream",
     "text": [
      "Found 70 images belonging to 7 classes.\n",
      "7/7 [==============================] - 0s 28ms/step - loss: 1.4619 - accuracy: 0.4143\n",
      "Time=  0:00:00.255311\n",
      "Test Loss: 1.4619269371032715\n",
      "Test Accuracy: 0.41428571939468384\n"
     ]
    }
   ],
   "source": [
    "import datetime\n",
    "\n",
    "test_img_generator = ImageDataGenerator(horizontal_flip=True)\n",
    "test_generator = test_img_generator.flow_from_directory(\"d:/work/emotions/test\",\n",
    "                                                    target_size=img_shape,\n",
    "                                                    color_mode=\"grayscale\",\n",
    "                                                    batch_size=10,\n",
    "                                                    class_mode='categorical',\n",
    "                                                    shuffle=True)\n",
    "\n",
    "start = datetime.datetime.now() \n",
    "score = model.evaluate(test_generator)\n",
    "end = datetime.datetime.now() \n",
    "print(\"Time= \",end-start)\n",
    "print('Test Loss:', score[0])\n",
    "print('Test Accuracy:', score[1])"
   ]
  },
  {
   "cell_type": "code",
   "execution_count": 23,
   "metadata": {},
   "outputs": [
    {
     "name": "stdout",
     "output_type": "stream",
     "text": [
      "(48, 48, 1)\n",
      "[[0.05496354 0.01318404 0.08862437 0.45900297 0.10588294 0.2457997\n",
      "  0.03254247]]\n",
      "happy\n"
     ]
    },
    {
     "data": {
      "text/plain": [
       "<matplotlib.image.AxesImage at 0x23a84932250>"
      ]
     },
     "execution_count": 23,
     "metadata": {},
     "output_type": "execute_result"
    },
    {
     "data": {
      "image/png": "[encoded data removed]",
      "text/plain": [
       "<Figure size 432x288 with 1 Axes>"
      ]
     },
     "metadata": {
      "needs_background": "light"
     },
     "output_type": "display_data"
    }
   ],
   "source": [
    "from keras.preprocessing import image\n",
    "import numpy as np\n",
    "import matplotlib.pyplot as plt\n",
    "import cv2\n",
    "\n",
    "def rgb2gray(rgb):\n",
    "\n",
    "    r, g, b = rgb[:,:,0], rgb[:,:,1], rgb[:,:,2]\n",
    "    gray = 0.2989 * r + 0.5870 * g + 0.1140 * b\n",
    "\n",
    "    return gray\n",
    "\n",
    "image_path = \"d:\\\\work\\\\emotions\\\\train\\\\happy\\\\Training_10116721.jpg\"\n",
    "# img = image.load_img(image_path, target_size=(48,48))\n",
    "img = cv2.imread(image_path)\n",
    "x = image.img_to_array(img)\n",
    "x = rgb2gray(x).reshape(48, 48, 1)\n",
    "print(x.shape)\n",
    "x = np.expand_dims(x, axis=0)\n",
    "predictions = model.predict(x)\n",
    "print(predictions)\n",
    "\n",
    "emotion_labels = [\"angry\",\"disgust\",\"fear\",\"happy\",\"neutral\",\"sad\",\"surprise\"]\n",
    "\n",
    "print(emotion_labels[np.argmax(predictions)])\n",
    "plt.imshow(img)"
   ]
  },
  {
   "cell_type": "code",
   "execution_count": 26,
   "metadata": {},
   "outputs": [
    {
     "name": "stderr",
     "output_type": "stream",
     "text": [
      "D:\\Perso\\UMons\\Anaconda\\lib\\site-packages\\tensorflow\\python\\keras\\engine\\base_layer.py:2281: UserWarning: `layer.add_variable` is deprecated and will be removed in a future version. Please use `layer.add_weight` method instead.\n",
      "  warnings.warn('`layer.add_variable` is deprecated and '\n"
     ]
    },
    {
     "name": "stdout",
     "output_type": "stream",
     "text": [
      "Model: \"sequential\"\n",
      "_________________________________________________________________\n",
      "Layer (type)                 Output Shape              Param #   \n",
      "=================================================================\n",
      "prune_low_magnitude_conv2d ( (None, 48, 48, 64)        1218      \n",
      "_________________________________________________________________\n",
      "prune_low_magnitude_batch_no (None, 48, 48, 64)        257       \n",
      "_________________________________________________________________\n",
      "prune_low_magnitude_activati (None, 48, 48, 64)        1         \n",
      "_________________________________________________________________\n",
      "prune_low_magnitude_max_pool (None, 24, 24, 64)        1         \n",
      "_________________________________________________________________\n",
      "prune_low_magnitude_dropout  (None, 24, 24, 64)        1         \n",
      "_________________________________________________________________\n",
      "prune_low_magnitude_conv2d_1 (None, 24, 24, 128)       409730    \n",
      "_________________________________________________________________\n",
      "prune_low_magnitude_batch_no (None, 24, 24, 128)       513       \n",
      "_________________________________________________________________\n",
      "prune_low_magnitude_activati (None, 24, 24, 128)       1         \n",
      "_________________________________________________________________\n",
      "prune_low_magnitude_max_pool (None, 12, 12, 128)       1         \n",
      "_________________________________________________________________\n",
      "prune_low_magnitude_dropout_ (None, 12, 12, 128)       1         \n",
      "_________________________________________________________________\n",
      "prune_low_magnitude_conv2d_2 (None, 12, 12, 256)       590082    \n",
      "_________________________________________________________________\n",
      "prune_low_magnitude_batch_no (None, 12, 12, 256)       1025      \n",
      "_________________________________________________________________\n",
      "prune_low_magnitude_activati (None, 12, 12, 256)       1         \n",
      "_________________________________________________________________\n",
      "prune_low_magnitude_max_pool (None, 6, 6, 256)         1         \n",
      "_________________________________________________________________\n",
      "prune_low_magnitude_dropout_ (None, 6, 6, 256)         1         \n",
      "_________________________________________________________________\n",
      "prune_low_magnitude_conv2d_3 (None, 6, 6, 512)         2359810   \n",
      "_________________________________________________________________\n",
      "prune_low_magnitude_batch_no (None, 6, 6, 512)         2049      \n",
      "_________________________________________________________________\n",
      "prune_low_magnitude_activati (None, 6, 6, 512)         1         \n",
      "_________________________________________________________________\n",
      "prune_low_magnitude_max_pool (None, 3, 3, 512)         1         \n",
      "_________________________________________________________________\n",
      "prune_low_magnitude_dropout_ (None, 3, 3, 512)         1         \n",
      "_________________________________________________________________\n",
      "prune_low_magnitude_flatten  (None, 4608)              1         \n",
      "_________________________________________________________________\n",
      "prune_low_magnitude_dense (P (None, 256)               2359554   \n",
      "_________________________________________________________________\n",
      "prune_low_magnitude_batch_no (None, 256)               1025      \n",
      "_________________________________________________________________\n",
      "prune_low_magnitude_activati (None, 256)               1         \n",
      "_________________________________________________________________\n",
      "prune_low_magnitude_dropout_ (None, 256)               1         \n",
      "_________________________________________________________________\n",
      "prune_low_magnitude_dense_1  (None, 512)               262658    \n",
      "_________________________________________________________________\n",
      "prune_low_magnitude_batch_no (None, 512)               2049      \n",
      "_________________________________________________________________\n",
      "prune_low_magnitude_activati (None, 512)               1         \n",
      "_________________________________________________________________\n",
      "prune_low_magnitude_dropout_ (None, 512)               1         \n",
      "_________________________________________________________________\n",
      "prune_low_magnitude_dense_2  (None, 7)                 7177      \n",
      "=================================================================\n",
      "Total params: 5,997,164\n",
      "Trainable params: 2,999,431\n",
      "Non-trainable params: 2,997,733\n",
      "_________________________________________________________________\n"
     ]
    }
   ],
   "source": [
    "import tensorflow_model_optimization as tfmot\n",
    "\n",
    "prune_low_magnitude = tfmot.sparsity.keras.prune_low_magnitude\n",
    "\n",
    "batch_size = 64\n",
    "epochs = 4\n",
    " \n",
    "num_images = 2000\n",
    "end_step = np.ceil(num_images / batch_size).astype(np.int32) * epochs\n",
    "\n",
    "\n",
    "pruning_params = {'pruning_schedule': tfmot.sparsity.keras.PolynomialDecay(initial_sparsity=0.0, final_sparsity=0.60, begin_step=0, end_step=end_step)\n",
    "}\n",
    "\n",
    "model_for_pruning = prune_low_magnitude(model, **pruning_params)\n",
    "\n",
    "\n",
    "model_for_pruning.compile(optimizer='adam', loss= 'categorical_crossentropy', metrics=['accuracy'])\n",
    "\n",
    "model_for_pruning.summary()"
   ]
  },
  {
   "cell_type": "code",
   "execution_count": null,
   "metadata": {},
   "outputs": [],
   "source": []
  }
 ],
 "metadata": {
  "kernelspec": {
   "display_name": "Python 3",
   "language": "python",
   "name": "python3"
  },
  "language_info": {
   "codemirror_mode": {
    "name": "ipython",
    "version": 3
   },
   "file_extension": ".py",
   "mimetype": "text/x-python",
   "name": "python",
   "nbconvert_exporter": "python",
   "pygments_lexer": "ipython3",
   "version": "3.8.5"
  }
 },
 "nbformat": 4,
 "nbformat_minor": 4
}
